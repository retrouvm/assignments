{
 "cells": [
  {
   "cell_type": "markdown",
   "metadata": {},
   "source": [
    "## Lecture 9"
   ]
  },
  {
   "cell_type": "markdown",
   "metadata": {},
   "source": [
    "### standard score (z-score)\n",
    "* z = (x – μ) / σ\n",
    "* z-score is unit-less, can be + or -\n",
    "* z-score is a numerical measurement that describes a value's relationship to the mean of a group of values\n",
    "* when distribution is approx. normal, z-score can be conveniently mapped to probabilities\n",
    "* z-score is measured in terms of standard deviations from the mean\n",
    "* if a Z-score is 0, it indicates that the data point's score is identical to the mean score."
   ]
  },
  {
   "cell_type": "markdown",
   "metadata": {},
   "source": [
    "### correlation\n",
    "* measures the (linear) relationship between two variables, X = [x1, x2, …Xn], and Y = [y1, y2, …, yn]\n",
    "    * E.g. between one’s height and weight\n",
    "* Between results of two tests\n",
    "    * Problem: the two variables may be on different unit, different scale, or different distribution\n",
    "* Option 1: convert the measurement to standardized score (z-score)\n",
    "    * Pearson Correlation Coefficient\n",
    "* Option 2: sort the values and convert the measurement to ranks\n",
    "    * Spearman Rank Correlation Coefficient"
   ]
  },
  {
   "cell_type": "markdown",
   "metadata": {},
   "source": [
    "### pearson correlation coefficient\n",
    "* a single number that measures both the strength and direction of the linear relationship between two continuous variables\n",
    "* it has a value between -1 to 1, with a value of -1 meaning a total negative linear correlation, 0 being no correlation, and + 1 meaning a total positive correlation\n",
    "\n",
    "![](https://encrypted-tbn0.gstatic.com/images?q=tbn:ANd9GcTmg0dRoJ1DiowlpdYiJy3G3SoMtC1wrFPhMw&usqp=CAU)"
   ]
  },
  {
   "cell_type": "code",
   "execution_count": 2,
   "metadata": {},
   "outputs": [],
   "source": [
    "import numpy as np\n",
    "import matplotlib.pyplot as plt"
   ]
  },
  {
   "cell_type": "code",
   "execution_count": 3,
   "metadata": {},
   "outputs": [
    {
     "data": {
      "image/png": "[encoded data removed]",
      "text/plain": [
       "<Figure size 432x288 with 1 Axes>"
      ]
     },
     "metadata": {
      "needs_background": "light"
     },
     "output_type": "display_data"
    }
   ],
   "source": [
    "friends = np.array([ 70, 65, 72, 63, 71, 64, 60, 64, 67])\n",
    "minutes = np.array([175, 170, 205, 120, 220, 130, 105, 145, 190])\n",
    "\n",
    "#to calculate z-score\n",
    "def zscore(numArray):\n",
    "    return(numArray-np.mean(numArray))/np.std(numArray)\n",
    "zfriends=zscore(friends)\n",
    "zminutes=zscore(minutes)\n",
    "\n",
    "plt.scatter(zfriends,zminutes)#using the range/scale of z-score, normalized\n",
    "plt.xlabel('z_friends')\n",
    "plt.ylabel('z_minutes')\n",
    "plt.show()"
   ]
  },
  {
   "cell_type": "code",
   "execution_count": 4,
   "metadata": {},
   "outputs": [
    {
     "data": {
      "text/plain": [
       "0.9224638302166008"
      ]
     },
     "execution_count": 4,
     "metadata": {},
     "output_type": "execute_result"
    }
   ],
   "source": [
    "#to calculate pearson correlation coefficient\n",
    "\n",
    "#z-score of Xi multiplied by the z-score of Yi\n",
    "zfriends.dot(zminutes)/len(friends)\n",
    "#using np.corrcoef gives the same result as the dot product\n",
    "np.corrcoef(friends,minutes)[0,1]"
   ]
  },
  {
   "cell_type": "code",
   "execution_count": 5,
   "metadata": {},
   "outputs": [
    {
     "data": {
      "image/png": "[encoded data removed]",
      "text/plain": [
       "<Figure size 432x288 with 1 Axes>"
      ]
     },
     "metadata": {
      "needs_background": "light"
     },
     "output_type": "display_data"
    }
   ],
   "source": [
    "#Pearson correlation coefficient is sensitive to outliers\n",
    "friends2=np.append(friends,1) #adding point to friends array\n",
    "minutes2=np.append(minutes,1000) #adding point to minutes array\n",
    "np.corrcoef(friends2, minutes2)[0,1] #[0,1] only returns the value in the 0,1 spot within the matrix\n",
    "\n",
    "#what happens to original plot when you add outliers\n",
    "plt.scatter(friends2,minutes2)\n",
    "plt.show() #the same distribution of points will show on a z-score plot, but with different scale"
   ]
  },
  {
   "cell_type": "code",
   "execution_count": 6,
   "metadata": {},
   "outputs": [
    {
     "data": {
      "text/plain": [
       "-0.9501494679023874"
      ]
     },
     "execution_count": 6,
     "metadata": {},
     "output_type": "execute_result"
    }
   ],
   "source": [
    "def zscore(numArray):\n",
    "    return(numArray-np.mean(numArray))/np.std(numArray)\n",
    "zfriends2=zscore(friends2)\n",
    "zminutes2=zscore(minutes2)\n",
    "zfriends2.dot(zminutes2)/len(friends2)"
   ]
  },
  {
   "cell_type": "markdown",
   "metadata": {},
   "source": [
    "### Spearman Rank Correlation Coefficient \n",
    "* a technique which can be used to summarise the strength and direction (negative or positive) of a relationship between two variables\n",
    "* result will always be between 1 and -1\n",
    "    * a value of +1 means a perfect association of rank\n",
    "    * a value of 0 means that there is no association between ranks\n",
    "    * a value of -1 means a perfect negative association of rank\n",
    "* di = difference between the two ranks of each observation\n",
    "* n = number of observations\n",
    "\n",
    "![](https://www.simplilearn.com/ice9/free_resources_article_thumb/Spearman%E2%80%99s_Rank_Correlation_2.png)\n"
   ]
  },
  {
   "cell_type": "code",
   "execution_count": 7,
   "metadata": {},
   "outputs": [
    {
     "name": "stdout",
     "output_type": "stream",
     "text": [
      "0.9666666666666667\n",
      "0.43030303030303024\n"
     ]
    },
    {
     "data": {
      "image/png": "[encoded data removed]",
      "text/plain": [
       "<Figure size 432x288 with 1 Axes>"
      ]
     },
     "metadata": {
      "needs_background": "light"
     },
     "output_type": "display_data"
    }
   ],
   "source": [
    "#to compute Spearman’s correlation, we have to compute the rank of each value, which is its index in the sorted sample\n",
    "#then we compute Pearson’s correlation for the ranks\n",
    "\n",
    "#argsort->perform an indirect sort along the given axis using the algorithm specified by the \"kind\" keyword\n",
    "#returns an array of indices of the same shape as the given array to sort that index data in sorted order.\n",
    "friends_rank = np.argsort(np.argsort(friends))\n",
    "#np.argsort(friends) returns an array of the indexes of the elements in friends in sorted order from least to greatest\n",
    "#np.argsort(np.argsort(friends)) returns an array of of the elements in np.argsort(friends) in sorted order from least to greatest\n",
    "minutes_rank = np.argsort(np.argsort(minutes))\n",
    "\n",
    "print(np.corrcoef(friends_rank, minutes_rank)[0,1]) #Return Pearson product-moment correlation coefficients\n",
    "plt.scatter(friends_rank,minutes_rank)\n",
    "\n",
    "#testing dataset with outliers, dataset points marked with diamonds\n",
    "friends_rank2 = np.argsort(np.argsort(friends2))\n",
    "minutes_rank2 = np.argsort(np.argsort(minutes2))\n",
    "print(np.corrcoef(friends_rank2, minutes_rank2)[0,1]) #Return Pearson product-moment correlation coefficients\n",
    "plt.scatter(friends_rank2,minutes_rank2,marker=\"d\")\n",
    "plt.show()"
   ]
  },
  {
   "cell_type": "markdown",
   "metadata": {},
   "source": [
    "### correlation\n",
    "* correlation only measures linear relationship\n",
    "* correlation does not imply causation\n",
    "* In general, correlation between two variables does not tell you\n",
    "whether one causes the other, or the other way around or whether\n",
    "they might both be caused by something else altogether. \n",
    "* Ways to help figure out: time, randomized controlled trial, etc. \n",
    "\n",
    "![](https://greenteapress.com/thinkstats/html/thinkstats018.png)\n",
    "![](https://greenteapress.com/thinkstats/html/thinkstats023.png)"
   ]
  },
  {
   "cell_type": "markdown",
   "metadata": {},
   "source": [
    "### probability mass function\n",
    "* a function over the sample space of a discrete random variable X which gives the probability that X is equal to a certain value\n",
    "* f(x)=P[X=x]\n",
    "* PMFs work well if the number of values is small. But as the number of\n",
    "values increases, the probability associated with each value gets smaller and\n",
    "the effect of random noise increases\n",
    "* PMF of birth weights. This figure shows a limitation of PMFs:\n",
    "they are hard to compare.\n",
    "* Binning can be useful, but it is tricky to get the size of the bins\n",
    "right. If they are big enough to smooth out noise, they might also smooth\n",
    "out useful information.\n",
    "\n",
    "![](https://miro.medium.com/max/864/1*XlERORSJusILdPXUdKel5w.png)\n",
    "![](https://greenteapress.com/thinkstats/html/thinkstats004.png)"
   ]
  },
  {
   "cell_type": "markdown",
   "metadata": {},
   "source": [
    "### Cumulative distribution functions\n",
    "* An alternative that avoids the problems of PMF is the cumulative distribution\n",
    "function\n",
    "* The CDF is the function that maps values to their percentile rank in a distribution\n",
    "* CDF is a function of x, where x is any value that might appear in the\n",
    "distribution. To evaluate CDF(x) for a particular value of x, we compute the fraction of the values in the sample less than (or equal to) x\n",
    "* If x is less than the smallest value in the sample, CDF(x) is 0. If x is greater than the largest value, CDF(x) is 1\n",
    "* Cdfs are implemented with two sorted lists: xs, which contains the values, and ps, which contains the probabilities. The most important methods Cdfs provide are:\n",
    "    * Prob(x): Given a value x, computes the probability p = CDF(x).\n",
    "    * Value(p): Given a probability p, computes the corresponding value, x; that is, the inverse CDF of p\n",
    "    \n",
    "![](https://miro.medium.com/max/750/1*2vXxablEGsq5Y9Cy7Ifmng.png)\n",
    "![](https://greenteapress.com/thinkstats/html/book006.png)"
   ]
  },
  {
   "cell_type": "markdown",
   "metadata": {},
   "source": [
    "### PMF vs CDF\n",
    "* plot(bin_center20, counts20[0]/sum(counts20[0]), 'r-x',\n",
    "bin_center10, counts10[0]/sum(counts10[0]), 'b-+')\n",
    "\n",
    "* plot(sort(a), arange(len(a))/len(a))"
   ]
  },
  {
   "cell_type": "markdown",
   "metadata": {},
   "source": [
    "### Probability Density Function (PDF) and continuous distribution\n",
    "* For continuous distribution, no PMF\n",
    "* Instead, probability density function (PDF) is available\n",
    "* PDF is the derivative of CD\n",
    "* probability density measures probability per unit of x. In order to\n",
    "get a probability mass2, you have to integrate over x. \n",
    "    * For example, if x is a random variable whose PDF is PDFX, we can compute the probability that a value from X falls between a and b:\n",
    "            ![](https://sites.nicholas.duke.edu/statsreview/files/2013/06/pdf.jpg)\n"
   ]
  },
  {
   "cell_type": "markdown",
   "metadata": {},
   "source": [
    "### standard normal pdf\n",
    "* scipy.stats.norm\n",
    "    * norm.pdf(x,loc,scale)\n",
    "    * norm.cdf(x,loc,scale)\n",
    "        * The location (loc) keyword specifies the mean. The scale (scale) keyword specifies the standard deviation.they're not necessary\n",
    "            * loc shifts the graph left and right according to mean, scale increases/decreases width of graph according to std deviation\n"
   ]
  },
  {
   "cell_type": "code",
   "execution_count": 8,
   "metadata": {},
   "outputs": [
    {
     "data": {
      "text/plain": [
       "Text(0.5, 1.0, 'Standard Normal Distribution')"
      ]
     },
     "execution_count": 8,
     "metadata": {},
     "output_type": "execute_result"
    },
    {
     "data": {
      "image/png": "[encoded data removed]",
      "text/plain": [
       "<Figure size 432x288 with 1 Axes>"
      ]
     },
     "metadata": {
      "needs_background": "light"
     },
     "output_type": "display_data"
    }
   ],
   "source": [
    "from scipy.stats import norm\n",
    "\n",
    "x=np.linspace(-5,5,10**3)\n",
    "y=norm.pdf(x,0,1)\n",
    "#(x, loc=0,scale=1)\n",
    "plt.plot(x,y)\n",
    "plt.xlabel('x')\n",
    "plt.ylabel('PDF')\n",
    "plt.title('Standard Normal Distribution')"
   ]
  },
  {
   "cell_type": "code",
   "execution_count": 9,
   "metadata": {},
   "outputs": [
    {
     "data": {
      "text/plain": [
       "0.3989422804014327"
      ]
     },
     "execution_count": 9,
     "metadata": {},
     "output_type": "execute_result"
    }
   ],
   "source": [
    "#in a standard normal distribution, what is the probability to get 0\n",
    "norm.pdf(0,0,1)"
   ]
  },
  {
   "cell_type": "code",
   "execution_count": 10,
   "metadata": {},
   "outputs": [
    {
     "data": {
      "text/plain": [
       "Text(0.5, 1.0, 'Standard Normal Distribution')"
      ]
     },
     "execution_count": 10,
     "metadata": {},
     "output_type": "execute_result"
    },
    {
     "data": {
      "image/png": "[encoded data removed]",
      "text/plain": [
       "<Figure size 432x288 with 1 Axes>"
      ]
     },
     "metadata": {
      "needs_background": "light"
     },
     "output_type": "display_data"
    }
   ],
   "source": [
    "#we have changed the mean to 1\n",
    "y=norm.pdf(x,1,1)\n",
    "plt.plot(x,y)\n",
    "plt.xlabel('x')\n",
    "plt.ylabel('PDF')\n",
    "plt.title('Standard Normal Distribution')"
   ]
  }
 ],
 "metadata": {
  "kernelspec": {
   "display_name": "Python 3.10.4 64-bit",
   "language": "python",
   "name": "python3"
  },
  "language_info": {
   "codemirror_mode": {
    "name": "ipython",
    "version": 3
   },
   "file_extension": ".py",
   "mimetype": "text/x-python",
   "name": "python",
   "nbconvert_exporter": "python",
   "pygments_lexer": "ipython3",
   "version": "3.10.4"
  },
  "orig_nbformat": 4,
  "vscode": {
   "interpreter": {
    "hash": "51e4f816afd506db7bb7650607a3e2e026e40398beddcc9e11824953f6978b8d"
   }
  }
 },
 "nbformat": 4,
 "nbformat_minor": 2
}
