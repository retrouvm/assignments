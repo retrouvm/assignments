{
 "cells": [
  {
   "cell_type": "markdown",
   "metadata": {},
   "source": [
    "## Lecture 8"
   ]
  },
  {
   "cell_type": "markdown",
   "metadata": {},
   "source": [
    "### central limit theorem\n",
    "![](https://miro.medium.com/max/1400/1*OcIhlsEvi6IXdwb5W3LXkg.png)\n",
    "* the mean of a large number of independently and identically distributed (iid) random variables (with mean µ and standard deviation σ) is approximately normally distributed, with mean µ and standard deviation σ/sqrt(n),where n is the sample size"
   ]
  },
  {
   "cell_type": "code",
   "execution_count": null,
   "metadata": {},
   "outputs": [],
   "source": [
    "import numpy as np\n",
    "import matplotlib.pyplot as plt"
   ]
  },
  {
   "cell_type": "code",
   "execution_count": null,
   "metadata": {},
   "outputs": [],
   "source": [
    "#simulation using uniform distribution\n",
    "a=np.random.rand(10**6) #creates an array of 10^6 random points/digits\n",
    "#len(a) #number of points we have\n",
    "print('population mean:',np.mean(a)) #returns mean of points\n",
    "#mean indicates the average of the data set\n",
    "print('standard deviation:',np.std(a)) #returns standard deviation of points\n",
    "#standard deviation indicates the dispersion of a dataset relative to its mean\n",
    "\n",
    "#now draw 100 samples, repeat 1000 times\n",
    "#save in a 100x1000 matrix\n",
    "b=np.random.choice(a,(100,1000),replace=False) #replace controls whether the sample is returned to the sample pool\n",
    "#if replace=False then the elements will not repeat in the random selected array\n",
    "\n",
    "#mean of each column\n",
    "sampleMean=np.mean(b,axis=0) #axis=0 -> points to columns\n",
    "#plot histogram\n",
    "#plt.hist(a,50) -> original data set (a), shows that all the values are extremeley close in frequency\n",
    "plt.hist(sampleMean,20) #20 means number of bars/beamns\n",
    "print('mean of sampleMean:',np.mean(sampleMean))\n",
    "print('std of sampleMean:',np.std(sampleMean))"
   ]
  },
  {
   "cell_type": "markdown",
   "metadata": {},
   "source": [
    "* A histogram represents the frequency distribution of continuous variables. Conversely, a bar graph is a diagrammatic comparison of discrete variables. Histogram presents numerical data whereas bar graph shows categorical data."
   ]
  },
  {
   "cell_type": "markdown",
   "metadata": {},
   "source": [
    "### error bar and confidence interval\n",
    "* An error bar is a line through a point on a graph, parallel to one of the axes, which represents the uncertainty or variation of the corresponding coordinate of the point\n",
    "![](https://datavizcatalogue.com/methods/images/anatomy/SVG/error_bars.svg)\n",
    "* A confidence interval is defined as the range of values that we observe in our sample and for which we expect to find the value that accurately reflects the population.\n",
    "    * 95% confidence interval: 1.96*SEM (the interval that is likely to\n",
    "include the real mean with 95% probability)\n",
    "    * 68.3% of x within ±1 SE of mean\n",
    "    * 95.5%: within ±2 SE of mean\n",
    "    * 99.7%: within ±3 SE of mean\n",
    "    * 95%: within ±1.96 SE of mean\n",
    "\n",
    "![](https://analystnotes.com/graph/quan/SS02SDlosn1.gif)"
   ]
  },
  {
   "cell_type": "code",
   "execution_count": 15,
   "metadata": {},
   "outputs": [],
   "source": [
    "measures=np.random.randint(0,100,size=(100,3)) #generates a set of integers between 0-100 in the size of 10x3\n",
    "#print(measures)"
   ]
  },
  {
   "cell_type": "markdown",
   "metadata": {},
   "source": [
    "### σM =σ/√N \n",
    "* standard error of the mean, or simply standard error, indicates how different the population mean is likely to be from a sample mean. It tells you how much the sample mean would vary if you were to repeat a study using new samples from within a single population "
   ]
  },
  {
   "cell_type": "code",
   "execution_count": 16,
   "metadata": {},
   "outputs": [
    {
     "data": {
      "text/plain": [
       "([<matplotlib.axis.XTick at 0x27bd009d2a0>,\n",
       "  <matplotlib.axis.XTick at 0x27bd009d270>,\n",
       "  <matplotlib.axis.XTick at 0x27bd009c9a0>],\n",
       " [Text(0, 0, ''), Text(0, 0, ''), Text(0, 0, '')])"
      ]
     },
     "execution_count": 16,
     "metadata": {},
     "output_type": "execute_result"
    },
    {
     "data": {
      "image/png": "[encoded data removed]",
      "text/plain": [
       "<Figure size 432x288 with 1 Axes>"
      ]
     },
     "metadata": {
      "needs_background": "light"
     },
     "output_type": "display_data"
    }
   ],
   "source": [
    "SEM=np.std(measures,0)/np.sqrt(measures.shape[0]) #np. std(), used to compute the standard deviation along the specified axis\n",
    "plt.errorbar([1.05,2.05,3.05],np.mean(measures,0),SEM) #plt.errorbar() method is used to plot error bars\n",
    "plt.errorbar([1,2,3],np.mean(measures,0),SEM*1.96)\n",
    "plt.xticks([1,2,3])\n",
    "#plt.show()"
   ]
  }
 ],
 "metadata": {
  "kernelspec": {
   "display_name": "Python 3.10.4 64-bit",
   "language": "python",
   "name": "python3"
  },
  "language_info": {
   "codemirror_mode": {
    "name": "ipython",
    "version": 3
   },
   "file_extension": ".py",
   "mimetype": "text/x-python",
   "name": "python",
   "nbconvert_exporter": "python",
   "pygments_lexer": "ipython3",
   "version": "3.10.4"
  },
  "orig_nbformat": 4,
  "vscode": {
   "interpreter": {
    "hash": "51e4f816afd506db7bb7650607a3e2e026e40398beddcc9e11824953f6978b8d"
   }
  }
 },
 "nbformat": 4,
 "nbformat_minor": 2
}
