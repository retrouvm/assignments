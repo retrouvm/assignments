{
 "cells": [
  {
   "cell_type": "markdown",
   "metadata": {},
   "source": [
    "## Lecture 5"
   ]
  },
  {
   "cell_type": "markdown",
   "metadata": {},
   "source": [
    "### functions"
   ]
  },
  {
   "cell_type": "code",
   "execution_count": null,
   "metadata": {},
   "outputs": [],
   "source": [
    "#functions are defined using def\n",
    "def double(x):\n",
    "    return x*2\n",
    "\n",
    "#you can call a function after it is defined\n",
    "z=double(10)\n",
    "print(z)\n",
    "\n",
    "#you can give default values to parameters\n",
    "def my_print(message=\"my default message\"):\n",
    "    print(message)\n",
    "my_print(\"hello\")\n",
    "my_print"
   ]
  },
  {
   "cell_type": "code",
   "execution_count": null,
   "metadata": {},
   "outputs": [],
   "source": [
    "#sometimes it is usefult to specify arguments by name\n",
    "def subtract(a=0, b=0):\n",
    "    return a-b\n",
    "print(subtract(10,5))\n",
    "print(subtract(0,5))\n",
    "print(subtract(b=5))\n",
    "print(subtract(b=5, a=0))"
   ]
  },
  {
   "cell_type": "code",
   "execution_count": null,
   "metadata": {},
   "outputs": [],
   "source": [
    "#functions are objects too\n",
    "def double(x):\n",
    "    return x*2\n",
    "DD=double\n",
    "print(DD(2))\n",
    "\n",
    "def apply_to_one(f):\n",
    "    return f(1)\n",
    "x=apply_to_one(DD)\n",
    "print(x)"
   ]
  },
  {
   "cell_type": "markdown",
   "metadata": {},
   "source": [
    "### list"
   ]
  },
  {
   "cell_type": "code",
   "execution_count": null,
   "metadata": {},
   "outputs": [],
   "source": [
    "x=[4,1,2,3]\n",
    "print(x)\n",
    "#sorted(list): keeps the original list intact and returns a new sorted list\n",
    "y=sorted(x)\n",
    "print(y)\n",
    "#list.sort: sort the original list\n",
    "x.sort()\n",
    "print(x)\n",
    "\n",
    "#change the default behavior of sorted\n",
    "#sort the list by absolute value from largest to smallest\n",
    "x=[-4,1,-2,3]\n",
    "y=sorted(x, key=abs, reverse=True)\n",
    "print(y)"
   ]
  },
  {
   "cell_type": "code",
   "execution_count": null,
   "metadata": {},
   "outputs": [],
   "source": [
    "#list comprehension\n",
    "#very convenient way to create a new list\n",
    "squares=[x*x for x in range(5)]\n",
    "print(squares)\n",
    "\n",
    "for x in range(5): squares[x]=x*x\n",
    "print(squares)"
   ]
  },
  {
   "cell_type": "code",
   "execution_count": null,
   "metadata": {},
   "outputs": [],
   "source": [
    "#can also be used to flter list\n",
    "even_numbers=[x for x in range(5) if x%2 ==0]\n",
    "print(even_numbers)\n",
    "\n",
    "even_numbers=[]\n",
    "for x in range(5):\n",
    "    if x%2==0:\n",
    "        even_numbers.append(x)\n",
    "print(even_numbers)"
   ]
  },
  {
   "cell_type": "code",
   "execution_count": null,
   "metadata": {},
   "outputs": [],
   "source": [
    "#create 100 pairs\n",
    "pairs=[(x,y)\n",
    "       for x in range(10)\n",
    "        for y in range(10)]\n",
    "print(pairs)\n",
    "#only pairs with x<y\n",
    "#range (lo,hi) equals\n",
    "#[lo,lo+1,......,hi-1]\n",
    "increasing_pairs=[(x,y)\n",
    "                  for x in range(10)\n",
    "                    for y in range(x+1, 10)]\n",
    "print(increasing_pairs)"
   ]
  },
  {
   "cell_type": "markdown",
   "metadata": {},
   "source": [
    "### zip"
   ]
  },
  {
   "cell_type": "code",
   "execution_count": null,
   "metadata": {},
   "outputs": [],
   "source": [
    "#useful to combine multiple lists into a list of tuples\n",
    "print(list(zip(['a','b','c'],[1,2,3],['A','B','C'])))\n"
   ]
  },
  {
   "cell_type": "code",
   "execution_count": 3,
   "metadata": {},
   "outputs": [
    {
     "name": "stdout",
     "output_type": "stream",
     "text": [
      "<zip object at 0x0000019C68A911C0>\n"
     ]
    }
   ],
   "source": [
    "\n",
    "names=['James','Tom','Mary']\n",
    "grades=[100,90,95]\n",
    "hi=list(zip(names,grades))\n",
    "print(hi)"
   ]
  },
  {
   "cell_type": "code",
   "execution_count": 6,
   "metadata": {},
   "outputs": [
    {
     "name": "stdout",
     "output_type": "stream",
     "text": [
      "[('03-10-16', 772.559998), ('04-10-16', 776.429993), ('05-10-16', 776.469971), ('06-10-16', 776.859985), ('07-10-16', 775.080017)]\n"
     ]
    }
   ],
   "source": [
    "\n",
    "dates=['03-10-16','04-10-16','05-10-16','06-10-16','07-10-16']\n",
    "d_close=[772.559998,776.429993,776.469971,776.859985,775.080017]\n",
    "result=zip(dates,d_close)\n",
    "print(list(result))"
   ]
  },
  {
   "cell_type": "code",
   "execution_count": 1,
   "metadata": {},
   "outputs": [
    {
     "name": "stdout",
     "output_type": "stream",
     "text": [
      "('James', 'Tom', 'Mary')\n",
      "(100, 10, 95)\n",
      "[('James', 'Tom', 'Mary'), (100, 10, 95)]\n"
     ]
    }
   ],
   "source": [
    "#argument unpacking\n",
    "#zip(*[a,b,c]) same as zip(a,b,c)\n",
    "gradeBook=[['James', 100],['Tom',10],['Mary',95]]\n",
    "[names,grades]=zip(*gradeBook) \n",
    "print(names)\n",
    "print(grades)\n",
    "print(list(zip(['James', 100],['Tom',10],['Mary',95])))"
   ]
  },
  {
   "cell_type": "code",
   "execution_count": null,
   "metadata": {},
   "outputs": [],
   "source": []
  },
  {
   "cell_type": "markdown",
   "metadata": {},
   "source": [
    "### random"
   ]
  },
  {
   "cell_type": "code",
   "execution_count": null,
   "metadata": {},
   "outputs": [],
   "source": [
    "#generating random numbers are important in statistics\n",
    "import random\n",
    "four_uniform_randoms=[random.random() for _ in range(4)]\n",
    "four_uniform_randoms\n",
    "\n",
    "#other useful functions:seed(), randint, randrange, shuffle, etc.\n",
    "#type in \"random\" and then use tab completion to see available functions and use \"?\" to see doctstring of function"
   ]
  },
  {
   "cell_type": "markdown",
   "metadata": {},
   "source": [
    "### important python modules for data science\n",
    "* numpy\n",
    "    * key module for scientific computing\n",
    "    * convinient and efficient ways to handle multi dimensional arrays\n",
    "* pandas\n",
    "    * dataframe\n",
    "    * flexible data structure of labeled tabular data\n",
    "* matplotlib\n",
    "    * for plotting\n",
    "* scipy\n",
    "    * solutions to common scientific computing problems such as linear algebra, optimization, statistics, sparse matrix"
   ]
  },
  {
   "cell_type": "markdown",
   "metadata": {},
   "source": [
    "### module paths\n",
    "* in order to find a module called myscripts.py, the interprester scans the lists sys.path of directory names\n",
    "* the module must be in one of those directories"
   ]
  },
  {
   "cell_type": "markdown",
   "metadata": {},
   "source": [
    "### basic plotting functions\n",
    "* Matplotlib basics\n",
    "* Line chart\n",
    "* Bar chart\n",
    "* Scatter plot\n",
    "* Colors, markers, line styles\n",
    "* Ticks, titles, axis labels, legends, annotations\n",
    "* Saving plots"
   ]
  },
  {
   "cell_type": "markdown",
   "metadata": {},
   "source": [
    "### basic statistics and more plots\n",
    "* Basic stats: Mean, median, range, standard deviation, correlation\n",
    "* Histogram\n",
    "* Error Bar\n",
    "* Boxplot\n",
    "* Imshow\n",
    "* Subplots\n",
    "* T-test and other statistical testing"
   ]
  },
  {
   "cell_type": "markdown",
   "metadata": {},
   "source": [
    "### summary statistics of a single data set\n",
    "* information (numbers) that give a quick and simple description of data\n",
    "    * Maximum value\n",
    "    * Minimum value\n",
    "    * Range (dispersion): max – min\n",
    "    * Mean\n",
    "    * Median\n",
    "    * Mode\n",
    "    * Quantile\n",
    "    * Standard deviation\n",
    "    * Etc."
   ]
  },
  {
   "cell_type": "markdown",
   "metadata": {},
   "source": [
    "### mean vs average vs median vs mode\n",
    "* (arithmetic) mean: the \"average\" value of the data\n",
    "    * def mean(a): return sum(a)/float(len(a))\n",
    "    * def mean(a): return reduce(lambda x, y:x+y,a)/float(len(a))\n",
    "* average: can be ambiguous\n",
    "    * the average household income in this community if $60,000\n",
    "        * the average (average) mean income for households in this community is $60,000\n",
    "        * the income for an average household in this community is $60,000\n",
    "        * what if most household are earning below $30,000 but one household is earning $1M\n",
    "* median: the \"middlest\" value, or mean of two middle values\n",
    "    * can be obtained by sorting the data first\n",
    "    * more efficient algorithm (~linear time) exists\n",
    "    * does not depend on all values in the data\n",
    "    * more robust to outliers\n",
    "    * quantile\n",
    "        * a generalization of median\n",
    "        * e.g. 75 percentile is the value which 75% of values are less than or equal to the entire data set\n",
    "* mode: the mose-common value in the data"
   ]
  },
  {
   "cell_type": "markdown",
   "metadata": {},
   "source": [
    "### variance(σ^2) and standard deviatiation(σ)\n",
    "$$\n",
    "\\sigma^2 = \\frac{1}{n}{\\sum_{i=0}^{n-1}{(x_i - \\mu)^2}}\n",
    "$$\n",
    "* describes the spread of the data from the mean\n",
    "    * is the mean squared of the deviation\n",
    "* standard deviation (square root of the variance):σ\n",
    "    * easier to understand than variance\n",
    "    * has the same unit ad the measurement\n",
    "    * say the data measures height of people in inch, the unit of σ is also inch. the unit for σ^2 is square inch\n",
    "* corrected estimation of population standard deviation from sample\n",
    "    * if standard deviation is estimated from sample, most likely it is an underestimate.\n",
    "    * can be corrected by replacing n in the above formula with n-1.\n",
    "    * default for many implementations\n",
    "    * for bigger data set, effect is very small"
   ]
  },
  {
   "cell_type": "code",
   "execution_count": 8,
   "metadata": {},
   "outputs": [],
   "source": [
    "#import mean() function from statistics module\n",
    "from statistics import mean\n",
    "def var(a):\n",
    "    m=mean(a)\n",
    "    dev=[(x-m)**2 for x in a]\n",
    "    return mean(dev)\n",
    "\n",
    "def std(a, correction=False):\n",
    "    if(not correction):\n",
    "        return var(a)**0.5\n",
    "    else:\n",
    "        n=len(a)\n",
    "        return (var(a)*n/float(n-1))**0.5"
   ]
  },
  {
   "cell_type": "markdown",
   "metadata": {},
   "source": [
    "### population vs sample\n",
    "* population: all members of a group in a study\n",
    "    * the average height of men\n",
    "    * the average height of living male ≥ 18yr in USA between 2001 and 2010\n",
    "    * the average height of all male students ≥ 18yr registered in Fall’17\n",
    "* sample: a subset of the members in the population\n",
    "    * most studies choose to sample the population due to cost/time or other\n",
    "    factors\n",
    "    * each sample is only one of many possible subsets of the population\n",
    "    * may or may not be representative of the whole population\n",
    "    * sample size and sampling procedure is important"
   ]
  }
 ],
 "metadata": {
  "interpreter": {
   "hash": "51e4f816afd506db7bb7650607a3e2e026e40398beddcc9e11824953f6978b8d"
  },
  "kernelspec": {
   "display_name": "Python 3.10.4 64-bit",
   "language": "python",
   "name": "python3"
  },
  "language_info": {
   "codemirror_mode": {
    "name": "ipython",
    "version": 3
   },
   "file_extension": ".py",
   "mimetype": "text/x-python",
   "name": "python",
   "nbconvert_exporter": "python",
   "pygments_lexer": "ipython3",
   "version": "3.10.4"
  },
  "orig_nbformat": 4
 },
 "nbformat": 4,
 "nbformat_minor": 2
}
