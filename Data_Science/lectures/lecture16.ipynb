{
 "cells": [
  {
   "cell_type": "markdown",
   "metadata": {},
   "source": [
    "# Lecture 16"
   ]
  },
  {
   "cell_type": "code",
   "execution_count": null,
   "metadata": {},
   "outputs": [],
   "source": [
    "from pandas import Series, DataFrame\n",
    "import pandas as pd\n",
    "import numpy as np\n",
    "from numpy import nan as NaN"
   ]
  },
  {
   "cell_type": "markdown",
   "metadata": {},
   "source": [
    "### Handling missing data\n",
    "* Filtering out missing values"
   ]
  },
  {
   "cell_type": "code",
   "execution_count": null,
   "metadata": {},
   "outputs": [],
   "source": [
    "data = Series([1, NaN, 2.5, NaN, 6])\n",
    "print(data.dropna(),\"\\n\")#drops rows that have any NaN\n",
    "print(data,\"\\n\")\n",
    "print(data.notnull(),\"\\n\")\n",
    "print(data[data.notnull()],\"\\n\")#returns only rows that dont't have any NaN"
   ]
  },
  {
   "cell_type": "code",
   "execution_count": null,
   "metadata": {},
   "outputs": [],
   "source": [
    "data = DataFrame([[1, 2, 3], [1, NaN, NaN], [NaN, NaN, NaN], [NaN, 4, 5]])\n",
    "print(data,\"\\n\")\n",
    "print(data.dropna(),\"\\n\") #drops rows that have any NaN\n",
    "print(data.dropna(how='all')) #drops if all data values in row are NaN\n",
    "print(data.dropna(axis=1, how='all'))#drops if all data values in row are NaN\n",
    "data[4]=NaN#makes all of column 4 into NaN\n",
    "print(data,\"\\n\")\n",
    "print(data.dropna(axis=1, how='all'))#drops if all data values in row are NaN"
   ]
  },
  {
   "cell_type": "markdown",
   "metadata": {},
   "source": [
    "### fill in missing data"
   ]
  },
  {
   "cell_type": "code",
   "execution_count": null,
   "metadata": {},
   "outputs": [],
   "source": [
    "print(data,\"\\n\")\n",
    "print(data.fillna(0),\"\\n\") #fills all NaN values with zero\n",
    "\n",
    "#Modify the dataframe instead of returning a new object (default)\n",
    "data.fillna(0, inplace=True)\n",
    "print(data,\"\\n\")\n",
    "\n",
    "data = DataFrame([[NaN, 9, 9], [NaN, 7, 2.0], [4.0, 8, 9.0], [3.0, 4, NaN]]) \n",
    "print(data,\"\\n\")\n",
    "print(data.fillna(data.mean(skipna=True)),\"\\n\") #replace nan with column mean"
   ]
  },
  {
   "cell_type": "markdown",
   "metadata": {},
   "source": [
    "### Hierarchical indexing for DataFrame"
   ]
  },
  {
   "cell_type": "code",
   "execution_count": null,
   "metadata": {},
   "outputs": [],
   "source": [
    "dataSeries = Series(np.arange(10), index=[['a']*3+['b']*3+['c']*4, ['i','ii','iii']*3+['iv']])\n",
    "print(dataSeries,\"\\n\")\n",
    "print(dataSeries.index,\"\\n\")\n",
    "print(dataSeries['b'],\"\\n\")\n",
    "print(dataSeries[:, 'ii'],\"\\n\")"
   ]
  },
  {
   "cell_type": "code",
   "execution_count": null,
   "metadata": {},
   "outputs": [],
   "source": [
    "#Unstack and stack\n",
    "print(dataSeries.unstack(),\"\\n\")\n",
    "print(dataSeries.unstack().T.stack(),\"\\n\")"
   ]
  },
  {
   "cell_type": "code",
   "execution_count": null,
   "metadata": {},
   "outputs": [],
   "source": [
    "frame2 = DataFrame(np.arange(16).reshape(4,4),\n",
    "                   index=[['a', 'a', 'b', 'b'], ['i','ii']*2], \n",
    "                   columns=[['c1', 'c1', 'c2', 'c2'], ['.1', '.2']*2])\n",
    "print(frame2,\"\\n\")\n",
    "print(frame2.swaplevel(-2, -1),\"\\n\") #swapping the two rows\n",
    "\n",
    "#frame2.swaplevel() or \n",
    "# frame2.swaplevel(-1, -2) or \n",
    "# frame2.swaplevel(0, 1) or \n",
    "# frame2.swaplevel(1, 0)\n",
    "\n",
    "print(frame2.swaplevel(-2, -1, axis=1)) #swapping columns"
   ]
  },
  {
   "cell_type": "markdown",
   "metadata": {},
   "source": [
    "### Use DataFramecolumns as indices\n",
    "* set_index"
   ]
  },
  {
   "cell_type": "code",
   "execution_count": null,
   "metadata": {},
   "outputs": [],
   "source": [
    "df= DataFrame({'a':range(7),\n",
    "               'b':range(7,0,-1),\n",
    "               'c':['one']*3+['two']*4,\n",
    "               'd':[0,1,2]*2+[3]})\n",
    "print(df,\"\\n\")\n",
    "\n",
    "df2=df.set_index(['c', 'a']) #swap 'c' and 'a', to make 'c' the index column\n",
    "print(df2,\"\\n\")\n",
    "\n",
    "print(df2.loc['one'],\"\\n\") #calls and returns values under index 'one' "
   ]
  },
  {
   "cell_type": "markdown",
   "metadata": {},
   "source": [
    "### Data loading, storage and file formats\n",
    "* Data loading, storage and file formats\n",
    "* Other options are available"
   ]
  }
 ],
 "metadata": {
  "kernelspec": {
   "display_name": "Python 3.10.4 64-bit",
   "language": "python",
   "name": "python3"
  },
  "language_info": {
   "codemirror_mode": {
    "name": "ipython",
    "version": 3
   },
   "file_extension": ".py",
   "mimetype": "text/x-python",
   "name": "python",
   "nbconvert_exporter": "python",
   "pygments_lexer": "ipython3",
   "version": "3.10.4"
  },
  "orig_nbformat": 4,
  "vscode": {
   "interpreter": {
    "hash": "51e4f816afd506db7bb7650607a3e2e026e40398beddcc9e11824953f6978b8d"
   }
  }
 },
 "nbformat": 4,
 "nbformat_minor": 2
}
