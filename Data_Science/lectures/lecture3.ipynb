{
 "cells": [
  {
   "cell_type": "markdown",
   "metadata": {},
   "source": [
    "## Lecture 3"
   ]
  },
  {
   "cell_type": "code",
   "execution_count": null,
   "metadata": {},
   "outputs": [],
   "source": [
    "#assignment\n",
    "x,y=2,3\n",
    "print(x,y)\n",
    "x,y=y,x\n",
    "print(x,y)\n",
    "x=y=z=3\n",
    "print(x,y,z)\n",
    "#accessing a name before it's been created (by assignment), creates an error"
   ]
  },
  {
   "cell_type": "markdown",
   "metadata": {},
   "source": [
    "### Strings"
   ]
  },
  {
   "cell_type": "code",
   "execution_count": null,
   "metadata": {},
   "outputs": [],
   "source": [
    "#calculating the mathematical functions without using code\n",
    "import numpy as np\n",
    "\n",
    "#mean\n",
    "a=np.array([1,2,3,4])\n",
    "print(a.mean())\n",
    "\n",
    "#sum\n",
    "x=[1,2,3]\n",
    "y=[4,5,6]\n",
    "#x+y is just cocatenating the lists\n",
    "#have to use numpy\n",
    "x=np.array([1,2,3])\n",
    "y=np.array([4,5,6])\n",
    "print(x+y)\n",
    "\n",
    "#matrix (list of list) summation\n",
    "x=np.array([[1,2,3],[4,5,6]])\n",
    "y=np.array([[3,4,5],[6,7,8]])\n",
    "print(x+y)"
   ]
  },
  {
   "cell_type": "code",
   "execution_count": null,
   "metadata": {},
   "outputs": [],
   "source": [
    "#strings can be delimited by matching single or double quotation marks\n",
    "single_quoted_string='data science'\n",
    "double_quoted_string=\"data science\"\n",
    "escaped_string='Isn\\'t this fun'\n",
    "another_string=\"Isn't this fun\"\n",
    "\n",
    "real_long_string='this is a really long string. \\\n",
    "    It has multiple parts, \\\n",
    "        but all in one line.'\n",
    "\n",
    "#use triple quotes for multi line strings\n",
    "multi_line_string=\"\"\"This is the first line.\n",
    "and this is the second line\n",
    "and this is the third line.\"\"\"\n",
    "\n",
    "print(single_quoted_string)\n",
    "print(double_quoted_string)\n",
    "print(escaped_string)\n",
    "print(another_string)\n",
    "print(real_long_string)\n",
    "print(multi_line_string)"
   ]
  },
  {
   "cell_type": "code",
   "execution_count": null,
   "metadata": {},
   "outputs": [],
   "source": [
    "#use raw string to output backslashes\n",
    "tab_string=\"\\t\"\n",
    "print(len(tab_string))\n",
    "not_tab_string=r\"\\t\"\n",
    "print(len(not_tab_string))\n",
    "\n",
    "#string can be concatenated (glued together) with the + operator, and repeated with *\n",
    "s=3*'un'+'ium'\n",
    "print(s)\n",
    "\n",
    "#two or more string literals (i.e. the enclosed space between quotes) next to each other are automatically concatenated\n",
    "s1='Py' 'thon'\n",
    "s2=s1+'2.7'\n",
    "print(s2)"
   ]
  },
  {
   "cell_type": "markdown",
   "metadata": {},
   "source": [
    "### Lists"
   ]
  },
  {
   "cell_type": "code",
   "execution_count": null,
   "metadata": {},
   "outputs": [],
   "source": [
    "integer_list=[1,2,3]\n",
    "print(integer_list)\n",
    "\n",
    "heterogeneous_list=[\"string\", 0.1, True]\n",
    "print(heterogeneous_list)\n",
    "\n",
    "list_of_lists=[integer_list, heterogeneous_list, []]\n",
    "print(list_of_lists)\n",
    "\n",
    "list_length=len(integer_list)\n",
    "print(list_length)\n",
    "\n",
    "list_sum=sum(integer_list)\n",
    "print(list_sum)\n",
    "\n",
    "\n",
    "#get the i-th element of a list\n",
    "x=[i for i in range (10)] #creates a list [0,1....,9]\n",
    "print(x)\n",
    "zero=x[0] #equals 0, lists are 0-indexed\n",
    "print(zero)\n",
    "one=x[1]\n",
    "print(one)\n",
    "nine=x[-1] #equals 9, 'Pythonic' for the last element\n",
    "print(nine)\n",
    "eight=x[-2] #equals 8, 'Pythonic' for next-to-last element22\n",
    "print(eight)\n",
    "\n",
    "#get a slice of a list\n",
    "one_to_four=x[1:5]\n",
    "print(one_to_four)\n",
    "\n",
    "first_three=x[:3]\n",
    "print(first_three)\n",
    "\n",
    "last_three=x[-3:]\n",
    "print(last_three)\n",
    "\n",
    "three_to_end=x[3:]\n",
    "print(three_to_end)\n",
    "\n",
    "without_first_and_last=x[1:-1]\n",
    "print(without_first_and_last)\n",
    "\n",
    "copy_of_x=x[:]\n",
    "print(copy_of_x)\n",
    "\n",
    "another_copy_of_x=x[:3]+x[3:]\n",
    "print(another_copy_of_x)"
   ]
  },
  {
   "cell_type": "code",
   "execution_count": 15,
   "metadata": {},
   "outputs": [
    {
     "name": "stdout",
     "output_type": "stream",
     "text": [
      "[0, 1, 2, 3, 4]\n",
      "[10, 1, 2, 3, 4]\n"
     ]
    }
   ],
   "source": [
    "import numpy as np\n",
    "a = list(range(5))\n",
    "b = a[:] \n",
    "\n",
    "b[0] = 10 \n",
    "print(a)\n",
    "print(b)"
   ]
  },
  {
   "cell_type": "code",
   "execution_count": 16,
   "metadata": {},
   "outputs": [
    {
     "name": "stdout",
     "output_type": "stream",
     "text": [
      "[10, 1, 2, 3, 4]\n",
      "[10, 1, 2, 3, 4]\n"
     ]
    }
   ],
   "source": [
    "a = list(range(5)) \n",
    "b = a \n",
    "\n",
    "b[0] = 10 \n",
    "print(a)\n",
    "print(b)"
   ]
  },
  {
   "cell_type": "code",
   "execution_count": null,
   "metadata": {},
   "outputs": [],
   "source": [
    "#check for membership\n",
    "1 in [1,2,3]\n",
    "0 in [1,2,3]\n",
    "\n",
    "#concatenate lists\n",
    "x=[1,2,3]\n",
    "y=[4,5,6]\n",
    "x.extend(y)\n",
    "print(x)\n",
    "\n",
    "x=[1,2,3]\n",
    "y=[4,5,6]\n",
    "z=x+y\n",
    "print(z)\n",
    "\n",
    "#list unpacking (multiple assignment)\n",
    "x,y=[1,2]\n",
    "print(x,y)\n",
    "[x,y]=1,2\n",
    "print(x,y)\n",
    "x,y=1,2\n",
    "print(x,y)\n",
    "_, y=[1,2]\n",
    "print(_,y)"
   ]
  },
  {
   "cell_type": "code",
   "execution_count": null,
   "metadata": {},
   "outputs": [],
   "source": [
    "#modify content of list\n",
    "x=[0,1,2,3,4,5,6,7,8]\n",
    "\n",
    "x[2]=x[2]*2\n",
    "print(x)\n",
    "\n",
    "x[-1]=0\n",
    "print(x)\n",
    "\n",
    "x[3:5]=x[:2]\n",
    "print(x)\n",
    "\n",
    "x[5:6]=[]\n",
    "print(x)\n",
    "\n",
    "del x[:2]\n",
    "print(x)\n",
    "\n",
    "del x[:]\n",
    "print(x)\n",
    "\n",
    "del x #referencing to x hereafter is a NameError\n",
    "\n",
    "\n",
    "#strings can also be sliced but they cannot be modified as they are immutable\n",
    "s='abcdefg'\n",
    "print(s)\n",
    "a=s[0]\n",
    "print(a)\n",
    "x=s[:2]\n",
    "print(x)\n",
    "y=s[-3:]\n",
    "print(y)\n",
    "#s[:2]='AB' will cause an error since string cannot be modified \n",
    "s='AB'+s[2:]\n",
    "print(s)"
   ]
  }
 ],
 "metadata": {
  "interpreter": {
   "hash": "51e4f816afd506db7bb7650607a3e2e026e40398beddcc9e11824953f6978b8d"
  },
  "kernelspec": {
   "display_name": "Python 3.10.4 64-bit",
   "language": "python",
   "name": "python3"
  },
  "language_info": {
   "codemirror_mode": {
    "name": "ipython",
    "version": 3
   },
   "file_extension": ".py",
   "mimetype": "text/x-python",
   "name": "python",
   "nbconvert_exporter": "python",
   "pygments_lexer": "ipython3",
   "version": "3.10.4"
  },
  "orig_nbformat": 4
 },
 "nbformat": 4,
 "nbformat_minor": 2
}
