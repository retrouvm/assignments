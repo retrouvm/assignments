{
 "cells": [
  {
   "cell_type": "markdown",
   "metadata": {},
   "source": [
    "# Lecture 15"
   ]
  },
  {
   "cell_type": "markdown",
   "metadata": {},
   "source": [
    "### Indexing, selection and filtering\n",
    "* Series and DataFrame can be sliced/accessed with label-based indexes, or using position-based indexes similar to Numpy Array"
   ]
  },
  {
   "cell_type": "code",
   "execution_count": 87,
   "metadata": {},
   "outputs": [],
   "source": [
    "from pandas import Series, DataFrame\n",
    "import pandas as pd\n",
    "import numpy as np\n",
    "from numpy import nan as NaN"
   ]
  },
  {
   "cell_type": "code",
   "execution_count": 88,
   "metadata": {},
   "outputs": [
    {
     "name": "stdout",
     "output_type": "stream",
     "text": [
      "2 \n",
      "\n",
      "2 \n",
      "\n",
      "zero    0\n",
      "two     2\n",
      "dtype: int64 \n",
      "\n",
      "zero    0\n",
      "two     2\n",
      "dtype: int64 \n",
      "\n",
      "zero    0\n",
      "one     1\n",
      "dtype: int64 \n",
      "\n",
      "zero    0\n",
      "one     1\n",
      "two     2\n",
      "dtype: int64 \n",
      "\n",
      "two      2\n",
      "three    3\n",
      "dtype: int64 \n",
      "\n",
      "two      2\n",
      "three    3\n",
      "dtype: int64 \n",
      "\n"
     ]
    }
   ],
   "source": [
    "S = Series(range(4), index=['zero', 'one', 'two', 'three'])\n",
    "print(S['two'],\"\\n\")\n",
    "print(S[2],\"\\n\") #same as above\n",
    "\n",
    "print(S[['zero', 'two']],\"\\n\")\n",
    "print(S[[0,2]],\"\\n\")#same as above\n",
    "\n",
    "print(S[:2],\"\\n\")\n",
    "print(S['zero':'two'],\"\\n\")#unlike above code, inclusive of index 2\n",
    "\n",
    "print(S[S > 1],\"\\n\")#returns elements greater than 1\n",
    "print(S[-2:],\"\\n\")#returns last two indices"
   ]
  },
  {
   "cell_type": "markdown",
   "metadata": {},
   "source": [
    "### datatrame– retrieving a column\n",
    "* A column in a DataFrame can be retrieved as a Series by dict-like notation or as attribute\n",
    "* Series index and name have been kept/set appropriately\n"
   ]
  },
  {
   "cell_type": "code",
   "execution_count": 89,
   "metadata": {},
   "outputs": [
    {
     "name": "stdout",
     "output_type": "stream",
     "text": [
      "    state  year  pop\n",
      "0    Ohio  2000  1.5\n",
      "1    Ohio  2001  1.7\n",
      "2    Ohio  2002  3.6\n",
      "3  Nevada  2001  2.4\n",
      "4  Nevada  2002  2.9 \n",
      "\n",
      "0      Ohio\n",
      "1      Ohio\n",
      "2      Ohio\n",
      "3    Nevada\n",
      "4    Nevada\n",
      "Name: state, dtype: object \n",
      "\n",
      "0      Ohio\n",
      "1      Ohio\n",
      "2      Ohio\n",
      "3    Nevada\n",
      "4    Nevada\n",
      "Name: state, dtype: object \n",
      "\n",
      "<class 'pandas.core.series.Series'>\n"
     ]
    }
   ],
   "source": [
    "data= {'state': ['Ohio', 'Ohio', 'Ohio', 'Nevada', 'Nevada'],\n",
    "       'year': [2000, 2001, 2002, 2001, 2002],\n",
    "       'pop': [1.5, 1.7, 3.6, 2.4, 2.9]}\n",
    "frame = DataFrame(data)\n",
    "print(frame,\"\\n\")\n",
    "\n",
    "print(frame['state'],\"\\n\")#prints state key\n",
    "print(frame.state,\"\\n\") #same as above\n",
    "\n",
    "print(type(frame['state']))"
   ]
  },
  {
   "cell_type": "markdown",
   "metadata": {},
   "source": [
    "#### dataframe– getting rows\n",
    "* loc for using labels and iloc for using positions"
   ]
  },
  {
   "cell_type": "code",
   "execution_count": 90,
   "metadata": {},
   "outputs": [
    {
     "name": "stdout",
     "output_type": "stream",
     "text": [
      "   year   state  pop debt\n",
      "A  2000    Ohio  1.5  NaN\n",
      "B  2001    Ohio  1.7  NaN\n",
      "C  2002    Ohio  3.6  NaN\n",
      "D  2001  Nevada  2.4  NaN\n",
      "E  2002  Nevada  2.9  NaN \n",
      "\n",
      "year     2000\n",
      "state    Ohio\n",
      "pop       1.5\n",
      "debt      NaN\n",
      "Name: A, dtype: object \n",
      "\n",
      "<class 'pandas.core.series.Series'> \n",
      "\n",
      "   year state  pop debt\n",
      "A  2000  Ohio  1.5  NaN\n",
      "B  2001  Ohio  1.7  NaN \n",
      "\n",
      "<class 'pandas.core.frame.DataFrame'> \n",
      "\n",
      "year     2000\n",
      "state    Ohio\n",
      "pop       1.5\n",
      "debt      NaN\n",
      "Name: A, dtype: object \n",
      "\n",
      "   year state  pop debt\n",
      "A  2000  Ohio  1.5  NaN\n",
      "B  2001  Ohio  1.7  NaN\n"
     ]
    }
   ],
   "source": [
    "data = {'state': ['Ohio', 'Ohio', 'Ohio', 'Nevada', 'Nevada'],\n",
    "        'year': [2000, 2001, 2002, 2001, 2002],\n",
    "        'pop': [1.5, 1.7, 3.6, 2.4, 2.9]}\n",
    "frame2 = DataFrame(data,\n",
    "                   columns=['year', 'state', 'pop', 'debt'], #columns can be renamed, in same order written\n",
    "                   index=['A', 'B', 'C', 'D', 'E']) #assigning labels of each row\n",
    "print(frame2,\"\\n\")\n",
    "\n",
    "print(frame2.loc['A'],\"\\n\") #returns row A data\n",
    "print(type(frame2.loc['A']),\"\\n\")\n",
    "\n",
    "print(frame2.loc[['A', 'B']],\"\\n\")#returns dataframe of A&B data\n",
    "print(type(frame2.loc[['A', 'B']]),\"\\n\")\n",
    "\n",
    "print(frame2.iloc[0],\"\\n\") #returns location of index zero\n",
    "print( frame2.iloc[[0, 1]])#returns location of index zero&one"
   ]
  },
  {
   "cell_type": "markdown",
   "metadata": {},
   "source": [
    "### dataframe– modifying columns"
   ]
  },
  {
   "cell_type": "code",
   "execution_count": 91,
   "metadata": {},
   "outputs": [
    {
     "name": "stdout",
     "output_type": "stream",
     "text": [
      "   year   state  pop  debt\n",
      "A  2000    Ohio  1.5     0\n",
      "B  2001    Ohio  1.7     0\n",
      "C  2002    Ohio  3.6     0\n",
      "D  2001  Nevada  2.4     0\n",
      "E  2002  Nevada  2.9     0 \n",
      "\n",
      "   year   state  pop  debt\n",
      "A  2000    Ohio  1.5     0\n",
      "B  2001    Ohio  1.7     1\n",
      "C  2002    Ohio  3.6     2\n",
      "D  2001  Nevada  2.4     3\n",
      "E  2002  Nevada  2.9     4 \n",
      "\n",
      "   year   state  pop  debt\n",
      "A  2000    Ohio  1.5     0\n",
      "B  2001    Ohio  1.7     1\n",
      "C  2002    Ohio  3.6     2\n",
      "D  2001  Nevada  2.4     3\n",
      "E  2002  Nevada  2.9     4 \n",
      "\n"
     ]
    }
   ],
   "source": [
    "frame2['debt'] = 0 #set all data values to zero\n",
    "print(frame2,\"\\n\")\n",
    "\n",
    "frame2['debt'] = range(5) #set data values in range of 5\n",
    "print(frame2,\"\\n\")\n",
    "\n",
    "val = Series([10, 10, 10], #assigning specific rows the value 10\n",
    "             index = ['A', 'C', 'D']) #it doesn't appear in data frame unless assigned to a specific column\n",
    "#frame2['debt'] = val #assigning those values to the debt column\n",
    "print(frame2,\"\\n\")"
   ]
  },
  {
   "cell_type": "markdown",
   "metadata": {},
   "source": [
    "### dataframe– modifying rows\n",
    "* Rows or individual elements can be modified similarly using loc or iloc"
   ]
  },
  {
   "cell_type": "code",
   "execution_count": 92,
   "metadata": {},
   "outputs": [
    {
     "name": "stdout",
     "output_type": "stream",
     "text": [
      "   year   state  pop debt\n",
      "A  2000      PA  1.1  NaN\n",
      "B  2001    Ohio  1.7  NaN\n",
      "C  2002    Ohio  3.6  NaN\n",
      "D  2001  Nevada  2.4  NaN\n",
      "E  2002  Nevada  2.9  NaN \n",
      "\n",
      "   year   state  pop debt\n",
      "A  2000      PA  1.1  NaN\n",
      "B  2005      MA  1.1  NaN\n",
      "C  2002    Ohio  3.6  NaN\n",
      "D  2001  Nevada  2.4  NaN\n",
      "E  2002  Nevada  2.9  NaN \n",
      "\n"
     ]
    }
   ],
   "source": [
    "frame2 = DataFrame(data,\n",
    "                   columns=['year', 'state', 'pop', 'debt'], #columns can be renamed, in same order written\n",
    "                   index=['A', 'B', 'C', 'D', 'E'])\n",
    "\n",
    "frame2.loc['A'] = Series([2000, 'PA', 1.1],\n",
    "                         index=['year', 'state', 'pop'])\n",
    "print(frame2,\"\\n\")\n",
    "\n",
    "\n",
    "frame2.iloc[1] =  Series([2005, 'MA', 1.1,NaN],\n",
    "                         index=['year', 'state', 'pop','debt'])\n",
    "print(frame2,\"\\n\")"
   ]
  },
  {
   "cell_type": "markdown",
   "metadata": {},
   "source": [
    "### More on DataFrame indexing"
   ]
  },
  {
   "cell_type": "code",
   "execution_count": 93,
   "metadata": {},
   "outputs": [
    {
     "name": "stdout",
     "output_type": "stream",
     "text": [
      "[[0 1 2]\n",
      " [3 4 5]\n",
      " [6 7 8]]\n",
      "    c1  c2  c3\n",
      "r1   0   1   2\n",
      "r2   3   4   5\n",
      "r3   6   7   8 \n",
      "\n",
      "r1    0\n",
      "r2    3\n",
      "r3    6\n",
      "Name: c1, dtype: int32 \n",
      "\n",
      "c1    0\n",
      "c2    1\n",
      "c3    2\n",
      "Name: r1, dtype: int32 \n",
      "\n",
      "0 \n",
      "\n",
      "    c1  c3\n",
      "r1   0   2\n",
      "r2   3   5\n",
      "r3   6   8 \n",
      "\n",
      "    c1  c2  c3\n",
      "r1   0   1   2\n",
      "r3   6   7   8 \n",
      "\n",
      "    c1  c2  c3\n",
      "r1   0   1   2\n",
      "r2   3   4   5 \n",
      "\n",
      "    c1  c2  c3\n",
      "r1   0   1   2\n",
      "r2   3   4   5 \n",
      "\n",
      "    c1  c2\n",
      "r1   0   1\n",
      "r2   3   4 \n",
      "\n",
      "    c1  c2  c3\n",
      "r1   0   1   2\n",
      "r2   3   4   5\n",
      "r3   6   7   8 \n",
      "\n",
      "    c1  c2\n",
      "r1   0   1\n",
      "r2   3   4 \n",
      "\n"
     ]
    }
   ],
   "source": [
    "data = np.arange(9).reshape(3,-1)#9 values divided into 3 rows\n",
    "print(data)\n",
    "\n",
    "frame = DataFrame(data,\n",
    "                  index=['r1', 'r2', 'r3'],\n",
    "                  columns=['c1', 'c2', 'c3'])\n",
    "print(frame,\"\\n\")\n",
    "print(frame['c1'],\"\\n\")\n",
    "print(frame.loc['r1'],\"\\n\")\n",
    "print(frame['c1']['r1'],\"\\n\")\n",
    "print(frame[['c1', 'c3']],\"\\n\")\n",
    "print(frame.loc[['r1','r3']],\"\\n\")\n",
    "#Row slices\n",
    "print(frame.iloc[:2],\"\\n\")\n",
    "print(frame[:2],\"\\n\")\n",
    "print(frame.loc[['r1', 'r2'], ['c1', 'c2']],\"\\n\")\n",
    "print(frame.loc['r1':'r3', 'c1':'c3'],\"\\n\")\n",
    "print(frame.iloc[:2,:2],\"\\n\")\n",
    "\n"
   ]
  },
  {
   "cell_type": "code",
   "execution_count": 94,
   "metadata": {},
   "outputs": [
    {
     "name": "stdout",
     "output_type": "stream",
     "text": [
      "   c1  c2  c3\n",
      "a   0   1   2\n",
      "a   3   4   5\n",
      "b   6   7   8 \n",
      "\n",
      "   c1  c2  c3\n",
      "a   0   1   2\n",
      "a   3   4   5 \n",
      "\n"
     ]
    }
   ],
   "source": [
    "v = DataFrame(np.arange(9).reshape(3,3),\n",
    "              index=['a', 'a', 'b'],\n",
    "              columns=['c1','c2','c3'])\n",
    "print(v,\"\\n\")\n",
    "print(v.loc['a'],\"\\n\")\n"
   ]
  },
  {
   "cell_type": "code",
   "execution_count": 95,
   "metadata": {},
   "outputs": [
    {
     "name": "stdout",
     "output_type": "stream",
     "text": [
      "    c1  c2  c3\n",
      "r1   0   1   2\n",
      "r2   3   4   5\n",
      "r3   6   7   8 \n",
      "\n",
      "    c1  c2  c3\n",
      "r2   3   4   5\n",
      "r3   6   7   8 \n",
      "\n",
      "r1    False\n",
      "r2     True\n",
      "r3     True\n",
      "Name: c1, dtype: bool \n",
      "\n",
      "       c1     c2     c3\n",
      "r1   True   True   True\n",
      "r2  False  False  False\n",
      "r3  False  False  False \n",
      "\n",
      "    c1  c2  c3\n",
      "r1   3   3   3\n",
      "r2   3   4   5\n",
      "r3   6   7   8 \n",
      "\n"
     ]
    }
   ],
   "source": [
    "\n",
    "print(frame,\"\\n\")\n",
    "print(frame[frame['c1']>0],\"\\n\")\n",
    "print(frame['c1']>0,\"\\n\")\n",
    "print(frame < 3,\"\\n\")\n",
    "frame[frame<3] = 3\n",
    "print(frame,\"\\n\")"
   ]
  },
  {
   "cell_type": "markdown",
   "metadata": {},
   "source": [
    "### DataFrame– removing columns"
   ]
  },
  {
   "cell_type": "code",
   "execution_count": 96,
   "metadata": {},
   "outputs": [
    {
     "name": "stdout",
     "output_type": "stream",
     "text": [
      "   year   state  pop debt\n",
      "A  2000    Ohio  1.5  NaN\n",
      "B  2001    Ohio  1.7  NaN\n",
      "C  2002    Ohio  3.6  NaN\n",
      "D  2001  Nevada  2.4  NaN\n",
      "E  2002  Nevada  2.9  NaN \n",
      "\n",
      "   year   state  pop\n",
      "A  2000    Ohio  1.5\n",
      "B  2001    Ohio  1.7\n",
      "C  2002    Ohio  3.6\n",
      "D  2001  Nevada  2.4\n",
      "E  2002  Nevada  2.9\n"
     ]
    }
   ],
   "source": [
    "data = {'state': ['Ohio', 'Ohio', 'Ohio', 'Nevada', 'Nevada'],\n",
    "        'year': [2000, 2001, 2002, 2001, 2002],\n",
    "        'pop': [1.5, 1.7, 3.6, 2.4, 2.9]}\n",
    "frame2 = DataFrame(data,\n",
    "                   columns=['year', 'state', 'pop', 'debt'], #columns can be renamed, in same order written\n",
    "                   index=['A', 'B', 'C', 'D', 'E'])\n",
    "print(frame2,\"\\n\")\n",
    "del frame2['debt']\n",
    "print(frame2)"
   ]
  },
  {
   "cell_type": "markdown",
   "metadata": {},
   "source": [
    "### Removing rows/columns"
   ]
  },
  {
   "cell_type": "code",
   "execution_count": 97,
   "metadata": {},
   "outputs": [
    {
     "name": "stdout",
     "output_type": "stream",
     "text": [
      "    c1  c2  c3\n",
      "r1   0   1   2\n",
      "r2   3   4   5\n",
      "r3   6   7   8 \n",
      "\n",
      "    c1  c2  c3\n",
      "r2   3   4   5\n",
      "r3   6   7   8 \n",
      "\n",
      "    c1  c2  c3\n",
      "r2   3   4   5 \n",
      "\n",
      "    c2  c3\n",
      "r1   1   2\n",
      "r2   4   5\n",
      "r3   7   8 \n",
      "\n"
     ]
    }
   ],
   "source": [
    "data = np.arange(9).reshape(3,-1)#9 values divided into 3 rows\n",
    "\n",
    "frame = DataFrame(data,\n",
    "                  index=['r1', 'r2', 'r3'],\n",
    "                  columns=['c1', 'c2', 'c3'])\n",
    "print(frame,\"\\n\")\n",
    "#del=error\n",
    "#del frame.loc['c1'] -> AttributeError: __delitem__\n",
    "#del frame.loc[‘r1’] -> AttributeError: __delitem__\n",
    "\n",
    "print(frame.drop('r1'),\"\\n\")\n",
    "print(frame.drop(['r1','r3']),\"\\n\")\n",
    "print(frame.drop(['c1'], axis=1),\"\\n\")"
   ]
  },
  {
   "cell_type": "markdown",
   "metadata": {},
   "source": [
    "### Reindexing\n",
    "* Alter the order of rows/columns of a DataFrame or order of a series according to new index"
   ]
  },
  {
   "cell_type": "code",
   "execution_count": 98,
   "metadata": {},
   "outputs": [
    {
     "name": "stdout",
     "output_type": "stream",
     "text": [
      "    c1  c2  c3\n",
      "r1   0   1   2\n",
      "r2   3   4   5\n",
      "r3   6   7   8 \n",
      "\n",
      "     c1   c2   c3\n",
      "r1  0.0  1.0  2.0\n",
      "r3  6.0  7.0  8.0\n",
      "r2  3.0  4.0  5.0\n",
      "r4  NaN  NaN  NaN \n",
      "\n",
      "    c2  c3  c1\n",
      "r1   1   2   0\n",
      "r2   4   5   3\n",
      "r3   7   8   6\n"
     ]
    }
   ],
   "source": [
    "print(frame,\"\\n\")\n",
    "print(frame.reindex(['r1', 'r3', 'r2', 'r4']),\"\\n\") #adds extra row\n",
    "print(frame.reindex(columns=['c2', 'c3', 'c1'])) #reorders columns"
   ]
  },
  {
   "cell_type": "markdown",
   "metadata": {},
   "source": [
    "### Function application and mapping\n",
    "* DataFrame.applymap(f) applies f to every entry\n",
    "* DataFrame.apply(f) applies f to every column (default) or row"
   ]
  },
  {
   "cell_type": "code",
   "execution_count": 99,
   "metadata": {},
   "outputs": [
    {
     "name": "stdout",
     "output_type": "stream",
     "text": [
      "    c1  c2  c3\n",
      "r1   0   1   2\n",
      "r2   3   4   5\n",
      "r3   6   7   8 \n",
      "\n",
      "    c1  c2  c3\n",
      "r1   0   1   4\n",
      "r2   9  16  25\n",
      "r3  36  49  64 \n",
      "\n",
      "c1    6\n",
      "c2    6\n",
      "c3    6\n",
      "dtype: int64 \n",
      "\n",
      "r1    2\n",
      "r2    2\n",
      "r3    2\n",
      "dtype: int64 \n",
      "\n",
      "     c1  c2  c3\n",
      "max   6   7   8\n",
      "min   0   1   2\n"
     ]
    }
   ],
   "source": [
    "print(frame,\"\\n\")\n",
    "\n",
    "#applies square to every entry\n",
    "def square(x): return x**2\n",
    "print(frame.applymap(square),\"\\n\")\n",
    "\n",
    "#returns every column's max value minus min value\n",
    "def max_minus_min(x): return max(x)-min(x)\n",
    "print(frame.apply(max_minus_min),\"\\n\")\n",
    "print(frame.apply(max_minus_min, axis=1),\"\\n\") #same as above except with the rows\n",
    "\n",
    "#returns a series that updates the frame with the max values of each column in row1 and the min of each column in row2\n",
    "def max_min(x): return Series([max(x), min(x)], index=['max', 'min'])\n",
    "print(frame.apply(max_min))"
   ]
  },
  {
   "cell_type": "markdown",
   "metadata": {},
   "source": [
    "### Other DataFrame functions\n",
    "* sort_index()\n",
    "* sort_values()\n",
    "* Rank()"
   ]
  },
  {
   "cell_type": "code",
   "execution_count": 100,
   "metadata": {},
   "outputs": [
    {
     "name": "stdout",
     "output_type": "stream",
     "text": [
      "   b  a  c\n",
      "A  0  1  2\n",
      "B  6  7  8\n",
      "C  3  4  5 \n",
      "\n",
      "   a  b  c\n",
      "A  1  0  2\n",
      "C  4  3  5\n",
      "B  7  6  8 \n",
      "\n",
      "    c1  c2  c3\n",
      "r1   9   8   3\n",
      "r2   4   4   3\n",
      "r3   2   4   3 \n",
      "\n",
      "    c1  c2  c3\n",
      "r3   2   4   3\n",
      "r2   4   4   3\n",
      "r1   9   8   3 \n",
      "\n",
      "    c1  c3  c2\n",
      "r1   9   3   8\n",
      "r2   4   3   4\n",
      "r3   2   3   4 \n",
      "\n",
      "    c1  c2  c3\n",
      "r1   9   8   3\n",
      "r2   4   4   3\n",
      "r3   2   4   3 \n",
      "\n",
      "     c1   c2   c3\n",
      "r1  3.0  2.0  1.0\n",
      "r2  2.5  2.5  1.0\n",
      "r3  1.0  3.0  2.0\n"
     ]
    }
   ],
   "source": [
    "frame.index=['A', 'C', 'B']\n",
    "frame.columns=['b','a','c']\n",
    "\n",
    "#sort_index()\n",
    "print(frame.sort_index(),\"\\n\")\n",
    "print(frame.sort_index(axis=1),\"\\n\") #sorts frame according to the columns\n",
    "\n",
    "#sort_values()\n",
    "frame = DataFrame(np.random.randint(0, 10, 9).reshape(3,-1),\n",
    "                    index=['r1', 'r2', 'r3'],\n",
    "                    columns=['c1', 'c2', 'c3'])\n",
    "print(frame,\"\\n\")\n",
    "print(frame.sort_values(by='c1'),\"\\n\") #sorts values in column c1\n",
    "print(frame.sort_values(axis=1, by=['r3','r1']),\"\\n\") #sorts columns by values in r3 and r1, lowest to highest\n",
    "\n",
    "#Rank()\n",
    "print(frame,\"\\n\")\n",
    "print(frame.rank(axis=1)) #ranks the different elements in place, 1.5 if they tie"
   ]
  },
  {
   "cell_type": "markdown",
   "metadata": {},
   "source": [
    "### Other DataFrame functions\n",
    "* mean()\n",
    "* Mean(axis=0, skipna=True) \n",
    "* sum() \n",
    "* cumsum() \n",
    "* describe(): return summary statistics of each column \n",
    "* for numeric data: mean, std, max, min, 25%, 50%, 75%, etc. \n",
    "* For non-numeric data: count, uniq, most-frequent item, etc. \n",
    "* corr(): correlation between two Series, or between columns of a DataFrame \n",
    "* corr_with(): correlation between columns of DataFram and a series or between the columns of another DataFrame"
   ]
  },
  {
   "cell_type": "markdown",
   "metadata": {},
   "source": [
    "### Handling missing data\n",
    "* Filtering out missing values"
   ]
  },
  {
   "cell_type": "code",
   "execution_count": 101,
   "metadata": {},
   "outputs": [
    {
     "name": "stdout",
     "output_type": "stream",
     "text": [
      "0    1.0\n",
      "2    2.5\n",
      "4    6.0\n",
      "dtype: float64\n"
     ]
    }
   ],
   "source": [
    "data = Series([1, NaN, 2.5, NaN, 6])\n",
    "print(data.dropna())"
   ]
  }
 ],
 "metadata": {
  "kernelspec": {
   "display_name": "Python 3.10.4 64-bit",
   "language": "python",
   "name": "python3"
  },
  "language_info": {
   "codemirror_mode": {
    "name": "ipython",
    "version": 3
   },
   "file_extension": ".py",
   "mimetype": "text/x-python",
   "name": "python",
   "nbconvert_exporter": "python",
   "pygments_lexer": "ipython3",
   "version": "3.10.4"
  },
  "orig_nbformat": 4,
  "vscode": {
   "interpreter": {
    "hash": "51e4f816afd506db7bb7650607a3e2e026e40398beddcc9e11824953f6978b8d"
   }
  }
 },
 "nbformat": 4,
 "nbformat_minor": 2
}
