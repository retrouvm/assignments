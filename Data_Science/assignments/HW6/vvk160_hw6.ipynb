{
 "cells": [
  {
   "cell_type": "markdown",
   "metadata": {},
   "source": [
    "# Homework 6 (60 points)\n",
    "* Download the file vvk160_hw6.ipynb\n",
    "* Open the file via Jupyter Notebook\n",
    "* Run the code by clicking the “Run” button"
   ]
  },
  {
   "cell_type": "code",
   "execution_count": 1,
   "metadata": {},
   "outputs": [],
   "source": [
    "import pandas as pd\n",
    "import numpy as np\n",
    "import matplotlib.pyplot as plt\n",
    "import pdb"
   ]
  },
  {
   "cell_type": "markdown",
   "metadata": {},
   "source": [
    "### Question 1: K-means clustering (30pts)\n",
    "* The dataset has two columns (‘x’ and ‘y’) and 42 records. They are 42 points in a 2D plane. Your goal is to group them into K clusters using K-means clustering algorithm.\n",
    "* The basic step of k-means clustering is simple. Initially, we determine number of cluster K and select K centroid or center of these clusters from the dataset randomly.\n",
    "* If there is no update on the locations of all centroids, the K-means algorithm will iterate at the following steps until convergence.\n",
    "   * a. Measure the distance of each point in the dataset to the K centroids\n",
    "   * b. Group the point based on minimum distance\n",
    "   * c. Calculate the location of each centroid based on the data points in the cluster"
   ]
  },
  {
   "cell_type": "markdown",
   "metadata": {},
   "source": [
    "### Question 2: Hidden Markov Model (30pts)\n",
    "* Suppose the day you were locked in the room was Rainy. The caretaker did not bring in an umbrella on day 2 but on day 3. We assume the prior probability of the caretaker bringing an umbrella is 0.6.\n",
    "* What is the probability that it is rainy on day 3? \n"
   ]
  },
  {
   "cell_type": "code",
   "execution_count": 4,
   "metadata": {},
   "outputs": [
    {
     "name": "stdout",
     "output_type": "stream",
     "text": [
      "\n",
      "P(w3=R|w1=R, u2=F, u3=T)=\n",
      "                         P(w2=Rainy, w3=Rainy|w1=Rainy, u2=False, u3=True)+\n",
      "                         P(w2=Foggy, w3=Rainy|w1=Rainy, u2=False, u3=True)+\n",
      "                         P(w2=Sunny, w3=Rainy|w1=Rainy, u2=False, u3=True)\n",
      "\n",
      "\n",
      "= P(u3=T|w3=R)P(u2=F|w2=R)P(w3=R|w2=R)P(w2=R|w1=R)P(w1=R)\n",
      "  ------------------------------------------------------- + \n",
      "                    P(u3=T)P(u2=F)P(w1=R)\n",
      "                    \n",
      "= P(u3=T|w3=R)P(u2=F|w2=F)P(w3=R|w2=F)P(w2=F|w1=R)P(w1=R)\n",
      "  ------------------------------------------------------- + \n",
      "                    P(u3=T)P(u2=F)P(w1=R)\n",
      "                    \n",
      "= P(u3=T|w3=R)P(u2=S|w2=F)P(w3=R|w2=S)P(w2=S|w1=R)P(w1=R)\n",
      "  ------------------------------------------------------- + \n",
      "                    P(u3=T)P(u2=F)P(w1=R)\n",
      "      \n",
      "\n",
      "= P(u3=T|w3=R)P(u2=F|w2=R)P(w3=R|w2=R)P(w2=R|w1=R)\n",
      "  ------------------------------------------------- + \n",
      "                    P(u3=T)P(u2=F)\n",
      "                    \n",
      "= P(u3=T|w3=R)P(u2=F|w2=F)P(w3=R|w2=F)P(w2=F|w1=R)\n",
      "  ------------------------------------------------- + \n",
      "                    P(u3=T)P(u2=F)\n",
      "                    \n",
      "= P(u3=T|w3=R)P(u2=F|w2=S)P(w3=R|w2=S)P(w2=S|w1=R)\n",
      "  ------------------------------------------------- + \n",
      "                    P(u3=T)P(u2=F)\n",
      "      \n",
      "\n",
      "= (0.8)(0.2)(0.6)(0.6)\n",
      "   ------------------- +\n",
      "       (0.6)(0.4)\n",
      "  (0.8)(0.7)(0.3)(0.2)\n",
      "   ------------------- +\n",
      "       (0.6)(0.4)\n",
      "  (0.8)(0.9)(0.05)(0.2)\n",
      "   ------------------- +\n",
      "       (0.6)(0.4)\n",
      "      \n",
      "= 0.41000000000000003\n"
     ]
    }
   ],
   "source": [
    "print('''\n",
    "P(w3=R|w1=R, u2=F, u3=T)=\n",
    "                         P(w2=Rainy, w3=Rainy|w1=Rainy, u2=False, u3=True)+\n",
    "                         P(w2=Foggy, w3=Rainy|w1=Rainy, u2=False, u3=True)+\n",
    "                         P(w2=Sunny, w3=Rainy|w1=Rainy, u2=False, u3=True)\n",
    "''')\n",
    "print('''\n",
    "= P(u3=T|w3=R)P(u2=F|w2=R)P(w3=R|w2=R)P(w2=R|w1=R)P(w1=R)\n",
    "  ------------------------------------------------------- + \n",
    "                    P(u3=T)P(u2=F)P(w1=R)\n",
    "                    \n",
    "= P(u3=T|w3=R)P(u2=F|w2=F)P(w3=R|w2=F)P(w2=F|w1=R)P(w1=R)\n",
    "  ------------------------------------------------------- + \n",
    "                    P(u3=T)P(u2=F)P(w1=R)\n",
    "                    \n",
    "= P(u3=T|w3=R)P(u2=S|w2=F)P(w3=R|w2=S)P(w2=S|w1=R)P(w1=R)\n",
    "  ------------------------------------------------------- + \n",
    "                    P(u3=T)P(u2=F)P(w1=R)\n",
    "      ''')\n",
    "\n",
    "print('''\n",
    "= P(u3=T|w3=R)P(u2=F|w2=R)P(w3=R|w2=R)P(w2=R|w1=R)\n",
    "  ------------------------------------------------- + \n",
    "                    P(u3=T)P(u2=F)\n",
    "                    \n",
    "= P(u3=T|w3=R)P(u2=F|w2=F)P(w3=R|w2=F)P(w2=F|w1=R)\n",
    "  ------------------------------------------------- + \n",
    "                    P(u3=T)P(u2=F)\n",
    "                    \n",
    "= P(u3=T|w3=R)P(u2=F|w2=S)P(w3=R|w2=S)P(w2=S|w1=R)\n",
    "  ------------------------------------------------- + \n",
    "                    P(u3=T)P(u2=F)\n",
    "      ''')\n",
    "print('''\n",
    "= (0.8)(0.2)(0.6)(0.6)\n",
    "   ------------------- +\n",
    "       (0.6)(0.4)\n",
    "  (0.8)(0.7)(0.3)(0.2)\n",
    "   ------------------- +\n",
    "       (0.6)(0.4)\n",
    "  (0.8)(0.9)(0.05)(0.2)\n",
    "   ------------------- +\n",
    "       (0.6)(0.4)\n",
    "      ''')\n",
    "print(\"=\",(((0.8)*(0.2)*(0.6)*(0.6))/((0.4)*(0.6)))+(((0.8)*(0.7)*(0.3)*(0.2))/((0.4)*(0.6)))+(((0.8)*(0.9)*(0.05)*(0.2))/((0.4)*(0.6))))"
   ]
  }
 ],
 "metadata": {
  "kernelspec": {
   "display_name": "Python 3.10.4 64-bit",
   "language": "python",
   "name": "python3"
  },
  "language_info": {
   "codemirror_mode": {
    "name": "ipython",
    "version": 3
   },
   "file_extension": ".py",
   "mimetype": "text/x-python",
   "name": "python",
   "nbconvert_exporter": "python",
   "pygments_lexer": "ipython3",
   "version": "3.10.4"
  },
  "vscode": {
   "interpreter": {
    "hash": "51e4f816afd506db7bb7650607a3e2e026e40398beddcc9e11824953f6978b8d"
   }
  }
 },
 "nbformat": 4,
 "nbformat_minor": 4
}
