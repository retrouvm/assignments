{
 "cells": [
  {
   "cell_type": "markdown",
   "metadata": {},
   "source": [
    "## Homework 1 (100 points)\n",
    "* Download the file vvk160_hw1.ipynb\n",
    "* Open the file via Jupyter Notebook\n",
    "* Run the code by clicking the “Run” button"
   ]
  },
  {
   "cell_type": "markdown",
   "metadata": {},
   "source": [
    "### String (20 points)"
   ]
  },
  {
   "cell_type": "code",
   "execution_count": 1,
   "metadata": {},
   "outputs": [
    {
     "name": "stdout",
     "output_type": "stream",
     "text": [
      "Welcome to Python Programming\n",
      "Python\n",
      "mming\n",
      "Welcome to Python Programming!!!\n"
     ]
    }
   ],
   "source": [
    "#1. Create the string str with “Welcome to Python Programming”\n",
    "str=\"Welcome to Python Programming\"\n",
    "#2. Output the string using the function Print\n",
    "print(str)\n",
    "#3. Output the substring from indexes 11 to 16 (including both indexes 11 and 16)\n",
    "print(str[11:17])\n",
    "#4. Output the substring of the last 5 characters (please use negative index)\n",
    "print(str[-5:])\n",
    "#5. Concatenate the string ‘!!!’ to the end of the string str\n",
    "str=str+'!!!'\n",
    "#6. Output the string str\n",
    "print(str)"
   ]
  },
  {
   "cell_type": "markdown",
   "metadata": {},
   "source": [
    "### List (32 points)"
   ]
  },
  {
   "cell_type": "code",
   "execution_count": 2,
   "metadata": {},
   "outputs": [
    {
     "name": "stdout",
     "output_type": "stream",
     "text": [
      "[1, 2, 3, 4]\n",
      "[1, 2, 3, 4, (5, 6)]\n",
      "[1, 2, 3, 4, (5, 6), ['perfect', 'wonderful']]\n",
      "[1, 2, 3, 4, (5, 6), ['perfect', 'wonderful'], [7, 8], [9, 10]]\n",
      "[1, 2, 3, 4, (5, 6), ['perfect', 'wonderful'], [7, 8], [9, 10], 8.5, 7, 'code', 'software']\n",
      "[[9, 10], 8.5, 7, 'code', 'software']\n",
      "[1, 2, [7, 8], [9, 10], 8.5, 7, 'code', 'software']\n"
     ]
    }
   ],
   "source": [
    "#1. Create an empty list\n",
    "l=[]\n",
    "#2. Add the elements 1, 2, 3, 4 into the list one by one and output the list after all additions\n",
    "for i in range(1,5):\n",
    "    l.append(i)\n",
    "print(l)\n",
    "#3. Add the tuple (5, 6) as an element to the end of the list and output the list\n",
    "t=tuple([5,6])\n",
    "l.append(t)\n",
    "print(l)\n",
    "#4. Add the list [‘perfect’, ‘wonderful’] as an element to the end of the list and output the list\n",
    "l2=['perfect', 'wonderful']\n",
    "l.append(l2)\n",
    "print(l)\n",
    "#5. Concatenate the list [[7, 8], [9, 10]] to the end of the above list and output the new list\n",
    "l=l+[[7,8],[9,10]]\n",
    "print(l)\n",
    "#6. Add the multiple elements 8.5, 7, ‘code’, ‘software’ to the end of the list at once and output the list\n",
    "l.extend([8.5, 7, 'code', 'software'])\n",
    "print(l)\n",
    "#7. Output the last 5 elements in the list\n",
    "print(l[-5:])\n",
    "#8. Remove the elements from indexes 3 to 6 and output the list\n",
    "del l[2:6]\n",
    "print(l)"
   ]
  },
  {
   "cell_type": "markdown",
   "metadata": {},
   "source": [
    "### Tuple (16 points)"
   ]
  },
  {
   "cell_type": "code",
   "execution_count": 3,
   "metadata": {},
   "outputs": [
    {
     "name": "stdout",
     "output_type": "stream",
     "text": [
      "(1, 2, 3, 4)\n",
      "('Python', 'for', 'kids')\n",
      "(1, 2, 3, 4, 'Python', 'for', 'kids')\n",
      "(3, 4, 'Python', 'for', 'kids')\n"
     ]
    }
   ],
   "source": [
    "#1. Create a tuple Tuple1 using the list with elements 1, 2, 3, 4 and output the tuple. (Note: there are many ways to create a tuple. You use the list to create the tuple here.)\n",
    "Tuple1=tuple([1,2,3,4])\n",
    "print(Tuple1)\n",
    "#2. Create another tuple Tuple2 with elements ‘Python’, ‘for’, and ‘kids’ directly, and then output the tuple\n",
    "Tuple2=('Python', 'for', 'kids')\n",
    "print(Tuple2)\n",
    "#3. Concatenate the tuple Tuple2 to the end of Tuple1 and assign the resulted tuple to Tuple1. Then output the tuple Tuple1.\n",
    "Tuple1=Tuple1+Tuple2\n",
    "print(Tuple1)\n",
    "#4. Output elements from index 3 to the end\n",
    "print(Tuple1[2:])"
   ]
  },
  {
   "cell_type": "markdown",
   "metadata": {},
   "source": [
    "### Dictionary (32 points)"
   ]
  },
  {
   "cell_type": "code",
   "execution_count": 1,
   "metadata": {},
   "outputs": [
    {
     "name": "stdout",
     "output_type": "stream",
     "text": [
      "{0: 'Python'}\n",
      "{0: 'Python', 1: 'Programming'}\n",
      "{0: 'Python', 1: 'Programming', 2: 'Funny'}\n",
      "{0: 'Python', 1: 'is very', 2: 'Funny'}\n",
      "0\n",
      "1\n",
      "2\n",
      "Python\n",
      "is very\n",
      "Funny\n",
      "{0: 'Python', 1: 'is very'}\n",
      "False\n",
      "['Python', 'is very']\n"
     ]
    }
   ],
   "source": [
    "#1. Create an empty Dictionary Dict\n",
    "Dict={}\n",
    "#2. ADictDicting elements 0: ‘Python’, 1: ‘Programming’, 2: ‘Funny’ one by one anDict then output the Dictionary.\n",
    "Dict[0]='Python'\n",
    "print(Dict)\n",
    "Dict[1]='Programming'\n",
    "print(Dict)\n",
    "Dict[2]='Funny'\n",
    "print(Dict)\n",
    "#3. UpDictate the key 1’s value to ‘is very’ anDict output the Dictionary.\n",
    "Dict[1]='is very'\n",
    "print(Dict)\n",
    "#4. Output all the keys\n",
    "for key in Dict.keys():\n",
    "    print(key)\n",
    "#5. Output all the values\n",
    "for value in Dict.values():\n",
    "    print(value)\n",
    "#6. Delete the element with the key 2 anDict output the Dictionary. (Note: you shoulDict Dictelete the entire element with the key anDict value).\n",
    "del Dict[2]\n",
    "print(Dict)\n",
    "#7. Check for existence of key 2\n",
    "print(2 in Dict)\n",
    "#8. Convert the Dictionary Dict to a list. Only the values of the Dictionary are in the list. Then, output the list.\n",
    "list_dict=list(Dict.values())\n",
    "print(list_dict)"
   ]
  }
 ],
 "metadata": {
  "interpreter": {
   "hash": "51e4f816afd506db7bb7650607a3e2e026e40398beddcc9e11824953f6978b8d"
  },
  "kernelspec": {
   "display_name": "Python 3.10.4 64-bit",
   "language": "python",
   "name": "python3"
  },
  "language_info": {
   "codemirror_mode": {
    "name": "ipython",
    "version": 3
   },
   "file_extension": ".py",
   "mimetype": "text/x-python",
   "name": "python",
   "nbconvert_exporter": "python",
   "pygments_lexer": "ipython3",
   "version": "3.10.4"
  },
  "orig_nbformat": 4
 },
 "nbformat": 4,
 "nbformat_minor": 2
}
