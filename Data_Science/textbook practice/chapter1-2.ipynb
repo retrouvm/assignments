{
 "cells": [
  {
   "cell_type": "markdown",
   "metadata": {},
   "source": [
    "## Finding Key Connectors"
   ]
  },
  {
   "cell_type": "code",
   "execution_count": 2,
   "metadata": {},
   "outputs": [],
   "source": [
    "import numpy as np\n",
    "import matplotlib.pyplot as plt"
   ]
  },
  {
   "cell_type": "markdown",
   "metadata": {},
   "source": [
    "* data dump\n",
    "    * consists of a list of users, each represented by a dict that contains for each user his or her id (which is a number) and name (which, in one of the great cosmic coincidences, rhymes with the user’s id):"
   ]
  },
  {
   "cell_type": "code",
   "execution_count": 3,
   "metadata": {},
   "outputs": [],
   "source": [
    "users = [\n",
    "{ \"id\": 0, \"name\": \"Hero\" },\n",
    "{ \"id\": 1, \"name\": \"Dunn\" },\n",
    "{ \"id\": 2, \"name\": \"Sue\" },\n",
    "{ \"id\": 3, \"name\": \"Chi\" },\n",
    "{ \"id\": 4, \"name\": \"Thor\" },\n",
    "{ \"id\": 5, \"name\": \"Clive\" },\n",
    "{ \"id\": 6, \"name\": \"Hicks\" },\n",
    "{ \"id\": 7, \"name\": \"Devin\" },\n",
    "{ \"id\": 8, \"name\": \"Kate\" },\n",
    "{ \"id\": 9, \"name\": \"Klein\" }\n",
    "]\n",
    "\n",
    "#“friendship” data, represented as a list of pairs of IDs:\n",
    "\n",
    "friendships = [(0, 1), (0, 2), (1, 2), (1, 3), (2, 3), (3, 4),\n",
    "(4, 5), (5, 6), (5, 7), (6, 8), (7, 8), (8, 9)]\n"
   ]
  },
  {
   "cell_type": "markdown",
   "metadata": {},
   "source": [
    "* the tuple (0, 1) indicates that the data scientist with id 0 (Hero) and the data scientist with id 1 (Dunn) are friends\n",
    "![](https://www.oreilly.com/library/view/data-science-from/9781491901410/assets/dsfs_0101.png)"
   ]
  },
  {
   "cell_type": "code",
   "execution_count": 4,
   "metadata": {},
   "outputs": [],
   "source": [
    "# to add a list of friends to each user\n",
    "#first we set each user’s friends property to an empty list\n",
    "for user in users:\n",
    "    user[\"friends\"] = [] #creating a new key within each user dictionary for \"friends\" list\n",
    "\n",
    "#and then we populate the lists using the friendships data\n",
    "for i, j in friendships:\n",
    "    #users[i] is the user whose id is i within the tuples of friendship\n",
    "    users[i][\"friends\"].append(users[j]) # add i as a friend of j\n",
    "    users[j][\"friends\"].append(users[i]) # add j as a friend of i"
   ]
  },
  {
   "cell_type": "markdown",
   "metadata": {},
   "source": [
    "* Once each user dict contains a list of friends, we can easily ask questions of our graph, like “what’s the average number of connections?”"
   ]
  },
  {
   "cell_type": "code",
   "execution_count": 5,
   "metadata": {},
   "outputs": [],
   "source": [
    "#first we find the total number of connections, by summing up the lengths of all the friends lists\n",
    "def number_of_friends(user): #function to return the length of the list in the value of the \"friends\" key for each user within users\n",
    "    return len(user[\"friends\"])\n",
    "total_connections = sum(number_of_friends(user)for user in users) #stores number of all \"friends\" connections by summing up the lengths returned by function number_of_friends for each user"
   ]
  },
  {
   "cell_type": "code",
   "execution_count": 6,
   "metadata": {},
   "outputs": [],
   "source": [
    "#and then we just divide by the number of users:\n",
    "from __future__ import division #will change the / operator to mean true division throughout the module\n",
    "num_users = len(users) #stores total number of users\n",
    "avg_connections = total_connections / num_users #calculates average number of connections across the users"
   ]
  },
  {
   "cell_type": "markdown",
   "metadata": {},
   "source": [
    "* the most connected people — are those who have the largest\n",
    "number of friends\n",
    "* Since there aren’t very many users, we can sort them from “most friends” to “least friends”"
   ]
  },
  {
   "cell_type": "code",
   "execution_count": 7,
   "metadata": {},
   "outputs": [
    {
     "data": {
      "text/plain": [
       "'\\nuser_id=[]\\nfor user in users:\\n    for key,value in user.items():\\n        if key==\"id\":\\n            user_id.append(value)\\nprint(user_id)\\n'"
      ]
     },
     "execution_count": 7,
     "metadata": {},
     "output_type": "execute_result"
    }
   ],
   "source": [
    "#code to iterate through list of dictionaries and access/return value for specific key\n",
    "'''\n",
    "user_id=[]\n",
    "for user in users:\n",
    "    for key,value in user.items():\n",
    "        if key==\"id\":\n",
    "            user_id.append(value)\n",
    "print(user_id)\n",
    "'''"
   ]
  },
  {
   "cell_type": "code",
   "execution_count": 8,
   "metadata": {},
   "outputs": [
    {
     "name": "stdout",
     "output_type": "stream",
     "text": [
      "[(1, 3), (2, 3), (3, 3), (5, 3), (8, 3), (0, 2), (4, 2), (6, 2), (7, 2), (9, 1)]\n"
     ]
    }
   ],
   "source": [
    "from operator import itemgetter\n",
    "# create a list (user_id, number_of_friends)\n",
    "num_friends_by_id = [(user[\"id\"], number_of_friends(user))for user in users]\n",
    "#sort by number of friends (most->least) which is the second argument in the tuple, num_friends_by_id[1]\n",
    "num_friends_by_id.sort(key=lambda num_friends:num_friends[1],reverse=True)\n",
    "#each pair is (user_id, num_friends)\n",
    "print(num_friends_by_id)"
   ]
  },
  {
   "cell_type": "markdown",
   "metadata": {},
   "source": [
    "* we’ve just computed the network metric degree centrality\n",
    "    * the degree centrality of a node is simply its degree—the number of edges it has. The higher the degree, the more central the node is. This can be an effective measure, since many nodes with high degrees also have high centrality by other measures\n",
    "\n",
    "* in the network user_id 4 only has two connections while user_id 1 has three, yet looking at the network it intuitively seems like Thor should be more central\n",
    "\n",
    "![](https://www.oreilly.com/library/view/data-science-from/9781491901410/assets/dsfs_0102.png)"
   ]
  },
  {
   "cell_type": "markdown",
   "metadata": {},
   "source": [
    "## Chapter 2"
   ]
  },
  {
   "cell_type": "markdown",
   "metadata": {},
   "source": [
    "*design a “Data Scientists You May Know” suggester, suggest that a user might know the friends of friends\n",
    "\n",
    "* these are easy to compute:\n",
    "    * for each of a user’s friends, iterate over that person’s friends and collect all the results"
   ]
  },
  {
   "cell_type": "code",
   "execution_count": 10,
   "metadata": {},
   "outputs": [
    {
     "data": {
      "text/plain": [
       "[0, 2, 3, 0, 1, 3]"
      ]
     },
     "execution_count": 10,
     "metadata": {},
     "output_type": "execute_result"
    }
   ],
   "source": [
    "def friends_of_friend_ids_bad(user):\n",
    "    # \"foaf\" is short for \"friend of a friend\"\n",
    "    return [foaf[\"id\"]\n",
    "            #for each of user's friends\n",
    "            for friend in user[\"friends\"]\n",
    "            #get each of _their_ friends\n",
    "            for foaf in friend[\"friends\"]]\n",
    "friends_of_friend_ids_bad(users[0])"
   ]
  },
  {
   "cell_type": "markdown",
   "metadata": {},
   "source": [
    "* it includes user 0 (twice), since Hero is indeed friends with both of his friends.\n",
    "* it includes users 1 and 2, although they are both friends with Hero already\n",
    "* and it includes user 3 twice, as Chi is reachable through two different friends"
   ]
  },
  {
   "cell_type": "code",
   "execution_count": 13,
   "metadata": {},
   "outputs": [
    {
     "name": "stdout",
     "output_type": "stream",
     "text": [
      "[1, 2]\n",
      "[0, 2, 3]\n",
      "[0, 1, 3]\n"
     ]
    }
   ],
   "source": [
    "print([friend[\"id\"] for friend in users[0][\"friends\"]])\n",
    "print([friend[\"id\"] for friend in users[1][\"friends\"]])\n",
    "print([friend[\"id\"] for friend in users[2][\"friends\"]])"
   ]
  },
  {
   "cell_type": "markdown",
   "metadata": {},
   "source": [
    "* maybe instead we should produce a count of mutual friends. And we\n",
    "definitely should use a helper function to exclude people already known to the user"
   ]
  },
  {
   "cell_type": "code",
   "execution_count": null,
   "metadata": {},
   "outputs": [],
   "source": [
    "from collections import Counter\n",
    "\n",
    "def not_the_same(user, other_user):\n",
    "    #two users are not the same if they have different ids\n",
    "    return user[\"id\"] != other_user[\"id\"]\n",
    "def not_friends(user, other_user):\n",
    "    #other_user is not a friend if he's not in user[\"friends\"];\n",
    "    #that is, if he's not_the_same as all the people in user[\"friends\"]\n",
    "    return all(not_the_same(friend, other_user)\n",
    "               for friend in user[\"friends\"])\n",
    "def friends_of_friend_ids(user):\n",
    "    return Counter(foaf[\"id\"]\n",
    "                   for friend in user[\"friends\"] # for each of my friends\n",
    "                   for foaf in friend[\"friends\"] # count *their* friends\n",
    "                   if not_the_same(user, foaf) # who aren't me\n",
    "                   and not_friends(user, foaf)) # and aren't my friends\n",
    "print(friends_of_friend_ids(users[3]))"
   ]
  }
 ],
 "metadata": {
  "kernelspec": {
   "display_name": "Python 3.10.4 64-bit",
   "language": "python",
   "name": "python3"
  },
  "language_info": {
   "codemirror_mode": {
    "name": "ipython",
    "version": 3
   },
   "file_extension": ".py",
   "mimetype": "text/x-python",
   "name": "python",
   "nbconvert_exporter": "python",
   "pygments_lexer": "ipython3",
   "version": "3.10.4"
  },
  "orig_nbformat": 4,
  "vscode": {
   "interpreter": {
    "hash": "51e4f816afd506db7bb7650607a3e2e026e40398beddcc9e11824953f6978b8d"
   }
  }
 },
 "nbformat": 4,
 "nbformat_minor": 2
}
