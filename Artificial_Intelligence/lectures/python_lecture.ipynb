{
  "cells": [
    {
      "cell_type": "markdown",
      "metadata": {
        "id": "J9mUiZ9uUq4h"
      },
      "source": [
        "# List\n",
        "\n",
        "* https://docs.python.org/3/tutorial/datastructures.html\n",
        "* https://www.programiz.com/python-programming/list\n",
        "* https://developers.google.com/edu/python/lists"
      ]
    },
    {
      "cell_type": "code",
      "execution_count": 1,
      "metadata": {
        "colab": {
          "base_uri": "https://localhost:8080/"
        },
        "id": "Zr5ZBMBePcRx",
        "outputId": "c2125f22-9232-4eac-bc81-0f505d2a56c6"
      },
      "outputs": [
        {
          "data": {
            "text/plain": [
              "['orange', 'apple', 'pear', 'banana', 'kiwi', 'apple', 'banana']"
            ]
          },
          "execution_count": 1,
          "metadata": {},
          "output_type": "execute_result"
        }
      ],
      "source": [
        "fruits = ['orange', 'apple', 'pear', 'banana', 'kiwi', 'apple', 'banana']\n",
        "fruits"
      ]
    },
    {
      "cell_type": "code",
      "execution_count": 2,
      "metadata": {
        "colab": {
          "base_uri": "https://localhost:8080/"
        },
        "id": "cjYU869APvKE",
        "outputId": "b16ae11f-c756-4e4a-f2e5-e4af925d17cd"
      },
      "outputs": [
        {
          "name": "stdout",
          "output_type": "stream",
          "text": [
            "pear\n"
          ]
        }
      ],
      "source": [
        "#print element of index 2\n",
        "print(fruits[2])"
      ]
    },
    {
      "cell_type": "code",
      "execution_count": 3,
      "metadata": {
        "colab": {
          "base_uri": "https://localhost:8080/"
        },
        "id": "mgYBTpM1SAuw",
        "outputId": "4569dad2-3c23-4c25-df2b-6b9550ddbe56"
      },
      "outputs": [
        {
          "name": "stdout",
          "output_type": "stream",
          "text": [
            "banana\n"
          ]
        }
      ],
      "source": [
        "#print last element\n",
        "print(fruits[-1])"
      ]
    },
    {
      "cell_type": "code",
      "execution_count": 4,
      "metadata": {
        "colab": {
          "base_uri": "https://localhost:8080/"
        },
        "id": "udPnLmalQIn0",
        "outputId": "1ac9c66d-a61c-434c-b58e-2d460c94beda"
      },
      "outputs": [
        {
          "name": "stdout",
          "output_type": "stream",
          "text": [
            "['orange', 'pear', 'kiwi', 'banana']\n"
          ]
        }
      ],
      "source": [
        "#print every other element [start:stop:step]\n",
        "print(fruits[::2])"
      ]
    },
    {
      "cell_type": "code",
      "execution_count": 5,
      "metadata": {
        "colab": {
          "base_uri": "https://localhost:8080/"
        },
        "id": "ncAFisQrQWvA",
        "outputId": "62b0f4ad-4ec5-49cf-9620-ca2de3da3c64"
      },
      "outputs": [
        {
          "data": {
            "text/plain": [
              "2"
            ]
          },
          "execution_count": 5,
          "metadata": {},
          "output_type": "execute_result"
        }
      ],
      "source": [
        "#count number of occurrences for 'apple'\n",
        "fruits.count('apple')"
      ]
    },
    {
      "cell_type": "code",
      "execution_count": 6,
      "metadata": {
        "colab": {
          "base_uri": "https://localhost:8080/"
        },
        "id": "6vnzTeiWRG7p",
        "outputId": "c71c8da1-02b6-4675-83e0-fd8eef28a8b8"
      },
      "outputs": [
        {
          "data": {
            "text/plain": [
              "0"
            ]
          },
          "execution_count": 6,
          "metadata": {},
          "output_type": "execute_result"
        }
      ],
      "source": [
        "#count number of occurences for 'xyz\n",
        "fruits.count('xyz')"
      ]
    },
    {
      "cell_type": "code",
      "execution_count": 7,
      "metadata": {
        "colab": {
          "base_uri": "https://localhost:8080/"
        },
        "id": "IgMZWokfRLEp",
        "outputId": "937795cf-8d1b-4ce7-d4ca-8c1d79b15807"
      },
      "outputs": [
        {
          "data": {
            "text/plain": [
              "3"
            ]
          },
          "execution_count": 7,
          "metadata": {},
          "output_type": "execute_result"
        }
      ],
      "source": [
        "#returns the first index of 'banana'\n",
        "fruits.index('banana')"
      ]
    },
    {
      "cell_type": "code",
      "execution_count": 8,
      "metadata": {
        "colab": {
          "base_uri": "https://localhost:8080/"
        },
        "id": "_R6rll_VRWq0",
        "outputId": "6132c904-6fab-40b8-ad9a-1ecc703b20fb"
      },
      "outputs": [
        {
          "data": {
            "text/plain": [
              "6"
            ]
          },
          "execution_count": 8,
          "metadata": {},
          "output_type": "execute_result"
        }
      ],
      "source": [
        "#returns the first index of 'banana' after the index of 4\n",
        "fruits.index('banana',4)"
      ]
    },
    {
      "cell_type": "code",
      "execution_count": 9,
      "metadata": {
        "id": "pWA1GotjRgMh"
      },
      "outputs": [],
      "source": [
        "#returns index of 'xyz' if it exists in list, otherwise, nothing happens\n",
        "if 'xyz' in fruits:\n",
        "  fruits.index('xyz')"
      ]
    },
    {
      "cell_type": "code",
      "execution_count": 10,
      "metadata": {
        "colab": {
          "base_uri": "https://localhost:8080/"
        },
        "id": "erjdaZXdRjwS",
        "outputId": "9d1a554d-f1d4-471e-c67c-c188a9a91c6e"
      },
      "outputs": [
        {
          "data": {
            "text/plain": [
              "['banana', 'apple', 'kiwi', 'banana', 'pear', 'apple', 'orange']"
            ]
          },
          "execution_count": 10,
          "metadata": {},
          "output_type": "execute_result"
        }
      ],
      "source": [
        "#reverses fruits list\n",
        "fruits.reverse()\n",
        "fruits"
      ]
    },
    {
      "cell_type": "code",
      "execution_count": 11,
      "metadata": {
        "colab": {
          "base_uri": "https://localhost:8080/"
        },
        "id": "uhkpl1ACSYTm",
        "outputId": "a277d283-1f55-4bac-eb76-a783d9a566a2"
      },
      "outputs": [
        {
          "data": {
            "text/plain": [
              "['apple', 'kiwi', 'banana', 'pear', 'apple', 'orange']"
            ]
          },
          "execution_count": 11,
          "metadata": {},
          "output_type": "execute_result"
        }
      ],
      "source": [
        "#removes 'banana' from list\n",
        "fruits.remove('banana')\n",
        "fruits"
      ]
    },
    {
      "cell_type": "code",
      "execution_count": 12,
      "metadata": {
        "colab": {
          "base_uri": "https://localhost:8080/"
        },
        "id": "wCYGXraWSjxi",
        "outputId": "0407c1b2-4009-4d32-970d-5c4bdde2fa59"
      },
      "outputs": [
        {
          "data": {
            "text/plain": [
              "['apple', 'kiwi', 'banana', 'pear', 'apple', 'orange', 'grape']"
            ]
          },
          "execution_count": 12,
          "metadata": {},
          "output_type": "execute_result"
        }
      ],
      "source": [
        "#adds 'grape' to end of list\n",
        "fruits.append('grape')\n",
        "fruits"
      ]
    },
    {
      "cell_type": "code",
      "execution_count": 13,
      "metadata": {
        "colab": {
          "base_uri": "https://localhost:8080/"
        },
        "id": "-VkWqU3nSsZi",
        "outputId": "48d7d0bc-9fd9-4ebb-e53a-f414f317aad8"
      },
      "outputs": [
        {
          "data": {
            "text/plain": [
              "['apple', 'apple', 'banana', 'grape', 'kiwi', 'orange', 'pear']"
            ]
          },
          "execution_count": 13,
          "metadata": {},
          "output_type": "execute_result"
        }
      ],
      "source": [
        "#sorts list by alpha order\n",
        "fruits.sort()\n",
        "fruits"
      ]
    },
    {
      "cell_type": "markdown",
      "metadata": {
        "id": "hhHkpmBoU12h"
      },
      "source": [
        "## List as Stack"
      ]
    },
    {
      "cell_type": "code",
      "execution_count": 14,
      "metadata": {
        "colab": {
          "base_uri": "https://localhost:8080/"
        },
        "id": "QUs7qJmaThog",
        "outputId": "bdee1838-b230-4591-88b1-8375d37b82f7"
      },
      "outputs": [
        {
          "data": {
            "text/plain": [
              "[3, 4, 5]"
            ]
          },
          "execution_count": 14,
          "metadata": {},
          "output_type": "execute_result"
        }
      ],
      "source": [
        "#list being used as a stack\n",
        "stack = [3,4,5]\n",
        "stack"
      ]
    },
    {
      "cell_type": "code",
      "execution_count": 15,
      "metadata": {
        "colab": {
          "base_uri": "https://localhost:8080/"
        },
        "id": "C8tRHlJWTlUj",
        "outputId": "dbca71d9-4073-4a18-c5d7-11cc89440a59"
      },
      "outputs": [
        {
          "data": {
            "text/plain": [
              "[3, 4, 5, 6, 7]"
            ]
          },
          "execution_count": 15,
          "metadata": {},
          "output_type": "execute_result"
        }
      ],
      "source": [
        "stack.append(6)\n",
        "stack.append(7)\n",
        "stack"
      ]
    },
    {
      "cell_type": "code",
      "execution_count": 16,
      "metadata": {
        "colab": {
          "base_uri": "https://localhost:8080/"
        },
        "id": "doVArC7uTqmQ",
        "outputId": "ea4ff540-f43a-45c5-f9d2-09be6ca3c86f"
      },
      "outputs": [
        {
          "data": {
            "text/plain": [
              "7"
            ]
          },
          "execution_count": 16,
          "metadata": {},
          "output_type": "execute_result"
        }
      ],
      "source": [
        "#remove and return last element that was added into stack\n",
        "stack.pop()"
      ]
    },
    {
      "cell_type": "code",
      "execution_count": 17,
      "metadata": {
        "colab": {
          "base_uri": "https://localhost:8080/"
        },
        "id": "1pH-ZEhaTwic",
        "outputId": "ee57748c-bef0-4533-f764-8c0fcc1f5446"
      },
      "outputs": [
        {
          "data": {
            "text/plain": [
              "[3, 4, 5, 6]"
            ]
          },
          "execution_count": 17,
          "metadata": {},
          "output_type": "execute_result"
        }
      ],
      "source": [
        "stack"
      ]
    },
    {
      "cell_type": "code",
      "execution_count": 18,
      "metadata": {
        "colab": {
          "base_uri": "https://localhost:8080/"
        },
        "id": "La3AIpoBVuYo",
        "outputId": "7983a172-7899-4203-e66c-9ebb1688dff7"
      },
      "outputs": [
        {
          "name": "stdout",
          "output_type": "stream",
          "text": [
            "3\n",
            "4\n",
            "5\n",
            "6\n"
          ]
        }
      ],
      "source": [
        "#print stack elements in the order that they were appended\n",
        "for x in stack:\n",
        "  print(x)"
      ]
    },
    {
      "cell_type": "markdown",
      "metadata": {
        "id": "l_7Hg-gtVOqX"
      },
      "source": [
        "## Matrix"
      ]
    },
    {
      "cell_type": "code",
      "execution_count": 19,
      "metadata": {
        "colab": {
          "base_uri": "https://localhost:8080/"
        },
        "id": "VhU80lQsT3Wa",
        "outputId": "6729c371-ef1f-40bf-f76f-13a034caaeb3"
      },
      "outputs": [
        {
          "name": "stdout",
          "output_type": "stream",
          "text": [
            "[[1, 2, 3, 4], [5, 6, 7, 8], [9, 10, 11, 12]]\n"
          ]
        }
      ],
      "source": [
        "#list of lists, nested list comprehension\n",
        "matrix = [\n",
        "          [1,2,3,4],\n",
        "          [5,6,7,8],\n",
        "          [9,10,11,12] ]\n",
        "print(matrix)"
      ]
    },
    {
      "cell_type": "code",
      "execution_count": 20,
      "metadata": {
        "colab": {
          "base_uri": "https://localhost:8080/"
        },
        "id": "g-Riv00KVDjs",
        "outputId": "608e389b-b080-4276-9114-aeaa055bb6f2"
      },
      "outputs": [
        {
          "data": {
            "text/plain": [
              "4"
            ]
          },
          "execution_count": 20,
          "metadata": {},
          "output_type": "execute_result"
        }
      ],
      "source": [
        "#length of list at index 0\n",
        "len(matrix[0])"
      ]
    },
    {
      "cell_type": "code",
      "execution_count": 21,
      "metadata": {
        "colab": {
          "base_uri": "https://localhost:8080/"
        },
        "id": "Hav9_T7IUgC_",
        "outputId": "d0e281ed-8e49-41cc-d52c-88b78210e0ed"
      },
      "outputs": [
        {
          "name": "stdout",
          "output_type": "stream",
          "text": [
            "[1, 2, 3, 4, 5, 6, 7, 8, 9, 10, 11, 12]\n"
          ]
        }
      ],
      "source": [
        "n = []\n",
        "for i in range(len(matrix)): #traverses through the length of the entire list (matrix)\n",
        "  for j in range(len(matrix[i])): #traverses through the length of each nested list\n",
        "    n.append(matrix[i][j]) #append each element within each nested list within the entire matrix into list n  \n",
        "#matrix[i][j] can be read different ways:\n",
        "#matrix[column][row]\n",
        "#matrix[nested list][element of nested list]\n",
        "print(n)"
      ]
    },
    {
      "cell_type": "code",
      "execution_count": 22,
      "metadata": {
        "colab": {
          "base_uri": "https://localhost:8080/"
        },
        "id": "CTgnP7dmVdFw",
        "outputId": "e90940ac-efde-431a-ed7f-d429d36efe2f"
      },
      "outputs": [
        {
          "name": "stdout",
          "output_type": "stream",
          "text": [
            "[1, 2, 3, 4, 5, 6, 7, 8, 9, 10, 11, 12]\n"
          ]
        }
      ],
      "source": [
        "#doing the same thing as the cell above, except in a much more cleaner and tidy way\n",
        "n = [] #empty list (n)\n",
        "for sublist in matrix: #traverse through each sublists within matrix list\n",
        "  for val in sublist: #traverse through each value within each sublist\n",
        "    n.append(val) #append each value from within each sublist from within the matrix list into the new empty list (n)\n",
        "print(n)"
      ]
    },
    {
      "cell_type": "code",
      "execution_count": 23,
      "metadata": {
        "colab": {
          "base_uri": "https://localhost:8080/"
        },
        "id": "J8tAvU5UV9NA",
        "outputId": "970bf86c-5ee9-435b-f9c8-32f646710d7a"
      },
      "outputs": [
        {
          "data": {
            "text/plain": [
              "[1, 2, 3, 4, 5, 6, 7, 8, 9, 10, 11, 12]"
            ]
          },
          "execution_count": 23,
          "metadata": {},
          "output_type": "execute_result"
        }
      ],
      "source": [
        "#one-liner for code in cell 21, having the code in brackets, returns code out into a new list\n",
        "[ matrix[i][j] for i in range(len(matrix)) for j in range(len(matrix[i])) ]\n",
        "#this code is saying\n",
        "#return a list containing values matrix[i][j]\n",
        "#for [i] in the range of the length of the matrix, meaning the nested lists within the matrix\n",
        "#and for [j] in the range of the length of the values within the nested lists that are in the matrix"
      ]
    },
    {
      "cell_type": "code",
      "execution_count": 24,
      "metadata": {
        "colab": {
          "base_uri": "https://localhost:8080/"
        },
        "id": "-ANuA4HjWfMF",
        "outputId": "f78bbf67-ab31-4f8a-ce4b-30b8d1099242"
      },
      "outputs": [
        {
          "data": {
            "text/plain": [
              "[1, 2, 3, 4, 5, 6, 7, 8, 9, 10, 11, 12]"
            ]
          },
          "execution_count": 24,
          "metadata": {},
          "output_type": "execute_result"
        }
      ],
      "source": [
        "#one-liner for code in cell 22, having the code in brackets, returns code out into a new list\n",
        "[ val for sublist in matrix for val in sublist ]\n",
        "#this code is saying\n",
        "#return a list contationing values val\n",
        "#for each sublist within the matrix\n",
        "#and for each value val within each of those sublists"
      ]
    },
    {
      "cell_type": "markdown",
      "metadata": {
        "id": "dso-lKVaU4Rd"
      },
      "source": [
        "# Dictionary\n",
        "\n",
        "* https://realpython.com/python-dicts/\n",
        "* https://www.programiz.com/python-programming/dictionary"
      ]
    },
    {
      "cell_type": "code",
      "execution_count": 25,
      "metadata": {
        "colab": {
          "base_uri": "https://localhost:8080/"
        },
        "id": "iwCGrz_9XJpa",
        "outputId": "69f73674-68e9-4fa8-e328-9bcf380d75ef"
      },
      "outputs": [
        {
          "data": {
            "text/plain": [
              "{'Colorado': 'Rockies',\n",
              " 'Boston': 'Red Sox',\n",
              " 'Minnesota': 'Twins',\n",
              " 'Milwaukee': 'Brewers',\n",
              " 'Seattle': 'Mariners'}"
            ]
          },
          "execution_count": 25,
          "metadata": {},
          "output_type": "execute_result"
        }
      ],
      "source": [
        "MLB_team = {\n",
        "    'Colorado' : 'Rockies',\n",
        "    'Boston'   : 'Red Sox',\n",
        "    'Minnesota': 'Twins',\n",
        "    'Milwaukee': 'Brewers',\n",
        "    'Seattle'  : 'Mariners'\n",
        "    }\n",
        "MLB_team"
      ]
    },
    {
      "cell_type": "code",
      "execution_count": 26,
      "metadata": {
        "colab": {
          "base_uri": "https://localhost:8080/",
          "height": 36
        },
        "id": "bzehEiY6XpL-",
        "outputId": "4b7d1a75-e4d5-45ba-994d-47849c259a3b"
      },
      "outputs": [
        {
          "data": {
            "text/plain": [
              "'Red Sox'"
            ]
          },
          "execution_count": 26,
          "metadata": {},
          "output_type": "execute_result"
        }
      ],
      "source": [
        "MLB_team['Boston']"
      ]
    },
    {
      "cell_type": "code",
      "execution_count": 27,
      "metadata": {
        "colab": {
          "base_uri": "https://localhost:8080/"
        },
        "id": "Cy1zE3q9YKBd",
        "outputId": "ff88bcb0-4d97-449e-b217-c9bc84bdb420"
      },
      "outputs": [
        {
          "name": "stdout",
          "output_type": "stream",
          "text": [
            "None\n"
          ]
        }
      ],
      "source": [
        "#MLB_team['Texas'] will return an error\n",
        "print(MLB_team.get('Texas')) #if it does not exist it will return None\n",
        "#.get is used to handle errors"
      ]
    },
    {
      "cell_type": "code",
      "execution_count": 28,
      "metadata": {
        "colab": {
          "base_uri": "https://localhost:8080/"
        },
        "id": "54kl6TYKYVsn",
        "outputId": "d5817cf9-ae77-4fd1-dcac-0cb50cebe977"
      },
      "outputs": [
        {
          "data": {
            "text/plain": [
              "{'Colorado': 'Rockies',\n",
              " 'Boston': 'Red Sox',\n",
              " 'Minnesota': 'Twins',\n",
              " 'Milwaukee': 'Brewers',\n",
              " 'Seattle': 'Mariners',\n",
              " 'Texas': 'Rangers'}"
            ]
          },
          "execution_count": 28,
          "metadata": {},
          "output_type": "execute_result"
        }
      ],
      "source": [
        "MLB_team['Texas'] = 'Rangers'\n",
        "MLB_team"
      ]
    },
    {
      "cell_type": "code",
      "execution_count": 29,
      "metadata": {
        "colab": {
          "base_uri": "https://localhost:8080/"
        },
        "id": "rzTiIPXsZBmj",
        "outputId": "261898c0-faf3-4e6f-e28b-cd4ccf2c2080"
      },
      "outputs": [
        {
          "data": {
            "text/plain": [
              "{'Colorado': 'Rockies',\n",
              " 'Boston': 'Red Sox',\n",
              " 'Minnesota': 'Twins',\n",
              " 'Milwaukee': 'Brewers',\n",
              " 'Seattle': 'Seahawks',\n",
              " 'Texas': 'Rangers'}"
            ]
          },
          "execution_count": 29,
          "metadata": {},
          "output_type": "execute_result"
        }
      ],
      "source": [
        "MLB_team['Seattle'] = 'Seahawks'\n",
        "MLB_team"
      ]
    },
    {
      "cell_type": "code",
      "execution_count": 30,
      "metadata": {
        "colab": {
          "base_uri": "https://localhost:8080/",
          "height": 36
        },
        "id": "cwmoCjmWZVLz",
        "outputId": "b0c88bbb-a25a-4bc5-c720-5d4d5b291051"
      },
      "outputs": [
        {
          "data": {
            "text/plain": [
              "'Seahawks'"
            ]
          },
          "execution_count": 30,
          "metadata": {},
          "output_type": "execute_result"
        }
      ],
      "source": [
        "MLB_team.pop('Seattle')\n",
        "# print(MLB_team)"
      ]
    },
    {
      "cell_type": "code",
      "execution_count": 31,
      "metadata": {
        "colab": {
          "base_uri": "https://localhost:8080/"
        },
        "id": "LPib7gghZrL5",
        "outputId": "fcc50a99-7991-4d6e-8929-1398cd8053dd"
      },
      "outputs": [
        {
          "ename": "KeyError",
          "evalue": "'Seattle'",
          "output_type": "error",
          "traceback": [
            "\u001b[1;31m---------------------------------------------------------------------------\u001b[0m",
            "\u001b[1;31mKeyError\u001b[0m                                  Traceback (most recent call last)",
            "\u001b[1;32mc:\\Users\\rmani\\.vscode\\jupyterf\\Artificial_Intelligence\\python_lecture.ipynb Cell 35'\u001b[0m in \u001b[0;36m<cell line: 1>\u001b[1;34m()\u001b[0m\n\u001b[1;32m----> <a href='vscode-notebook-cell:/c%3A/Users/rmani/.vscode/jupyterf/Artificial_Intelligence/python_lecture.ipynb#ch0000034?line=0'>1</a>\u001b[0m \u001b[39mdel\u001b[39;00m MLB_team[\u001b[39m'\u001b[39m\u001b[39mSeattle\u001b[39m\u001b[39m'\u001b[39m]\n\u001b[0;32m      <a href='vscode-notebook-cell:/c%3A/Users/rmani/.vscode/jupyterf/Artificial_Intelligence/python_lecture.ipynb#ch0000034?line=1'>2</a>\u001b[0m MLB_team\n",
            "\u001b[1;31mKeyError\u001b[0m: 'Seattle'"
          ]
        }
      ],
      "source": [
        "del MLB_team['Seattle']\n",
        "MLB_team"
      ]
    },
    {
      "cell_type": "code",
      "execution_count": null,
      "metadata": {
        "colab": {
          "base_uri": "https://localhost:8080/"
        },
        "id": "02LHp9kAZ2Wo",
        "outputId": "2f43ea7b-63d4-4e37-e745-e52000ac54d5"
      },
      "outputs": [],
      "source": [
        "#acesses all the keys and returns them in a list\n",
        "list(MLB_team.keys())"
      ]
    },
    {
      "cell_type": "code",
      "execution_count": null,
      "metadata": {
        "colab": {
          "base_uri": "https://localhost:8080/"
        },
        "id": "tQaJ36sdaBw0",
        "outputId": "e08a378f-dd08-4802-ae06-378ccd0e6f4f"
      },
      "outputs": [],
      "source": [
        "#acesses all the values and returns them in a list\n",
        "list(MLB_team.values())"
      ]
    },
    {
      "cell_type": "markdown",
      "metadata": {
        "id": "2R-fng5hVT03"
      },
      "source": [
        "# Numpy array / matrix\n",
        "\n",
        "* https://numpy.org/doc/stable/user/quickstart.html\n",
        "* https://www.programiz.com/python-programming/matrix"
      ]
    },
    {
      "cell_type": "code",
      "execution_count": 2,
      "metadata": {
        "id": "ZnjmXgWlaaBK"
      },
      "outputs": [],
      "source": [
        "import numpy as np"
      ]
    },
    {
      "cell_type": "code",
      "execution_count": 5,
      "metadata": {
        "colab": {
          "base_uri": "https://localhost:8080/"
        },
        "id": "C7S6zOiRauCX",
        "outputId": "bed7d03c-1a1f-4b6e-c14a-83b4d51b57f4"
      },
      "outputs": [
        {
          "name": "stdout",
          "output_type": "stream",
          "text": [
            "[0. 0. 0. 0. 0.]\n"
          ]
        }
      ],
      "source": [
        "#creates an array full of zeros, np.(what you want in the array)(how many times you want it)\n",
        "print(np.zeros(5))"
      ]
    },
    {
      "cell_type": "code",
      "execution_count": 6,
      "metadata": {
        "colab": {
          "base_uri": "https://localhost:8080/"
        },
        "id": "w3h69Ht4cs_7",
        "outputId": "69451f11-497f-49ad-9fc9-e015efa01bd9"
      },
      "outputs": [
        {
          "name": "stdout",
          "output_type": "stream",
          "text": [
            "[[0. 0. 0. 0.]\n",
            " [0. 0. 0. 0.]\n",
            " [0. 0. 0. 0.]]\n"
          ]
        }
      ],
      "source": [
        "#creates an array full of zeros, np.(what you want in the array)(rows, collumns)\n",
        "#as floats\n",
        "print(np.zeros((3,4)))"
      ]
    },
    {
      "cell_type": "code",
      "execution_count": 7,
      "metadata": {
        "colab": {
          "base_uri": "https://localhost:8080/"
        },
        "id": "DiPkZYDac8gI",
        "outputId": "21ae17b9-5b7a-4c3c-da9b-8c0d78828aba"
      },
      "outputs": [
        {
          "name": "stdout",
          "output_type": "stream",
          "text": [
            "[[1 1 1 1]\n",
            " [1 1 1 1]\n",
            " [1 1 1 1]]\n"
          ]
        }
      ],
      "source": [
        "#creates an array full of zeros, np.(what you want in the array)(rows, collumns), as integers\n",
        "print(np.ones((3,4), dtype=np.int16))"
      ]
    },
    {
      "cell_type": "code",
      "execution_count": 8,
      "metadata": {
        "colab": {
          "base_uri": "https://localhost:8080/"
        },
        "id": "9q3r90VTdJei",
        "outputId": "78c4f9be-f2d7-47bd-d66b-bf040fb13845"
      },
      "outputs": [
        {
          "name": "stdout",
          "output_type": "stream",
          "text": [
            "[20 30 40 50]\n"
          ]
        }
      ],
      "source": [
        "#create an array of a list\n",
        "print(np.array([20,30,40,50]))"
      ]
    },
    {
      "cell_type": "code",
      "execution_count": 9,
      "metadata": {
        "colab": {
          "base_uri": "https://localhost:8080/"
        },
        "id": "jEwdxEOZdSH7",
        "outputId": "e88281c5-8ca2-498f-e356-0adfec666d09"
      },
      "outputs": [
        {
          "name": "stdout",
          "output_type": "stream",
          "text": [
            "[0 1 2 3]\n"
          ]
        }
      ],
      "source": [
        "#create an array to the range of less than 4\n",
        "print(np.arange(4))"
      ]
    },
    {
      "cell_type": "code",
      "execution_count": 10,
      "metadata": {
        "colab": {
          "base_uri": "https://localhost:8080/"
        },
        "id": "mqF7anBidY-p",
        "outputId": "bd53758a-caf2-471d-c9c7-81c2da842cdc"
      },
      "outputs": [
        {
          "name": "stdout",
          "output_type": "stream",
          "text": [
            "[0.  0.3 0.6 0.9 1.2 1.5 1.8]\n"
          ]
        }
      ],
      "source": [
        "#creates an array to the range of less than 2, incrementing by 0.3\n",
        "print(np.arange(0,2,0.3))"
      ]
    },
    {
      "cell_type": "code",
      "execution_count": 11,
      "metadata": {
        "colab": {
          "base_uri": "https://localhost:8080/"
        },
        "id": "E9H7CqnfdeIQ",
        "outputId": "0490a271-5ca6-4d11-ef5c-ffe04efab4ff"
      },
      "outputs": [
        {
          "name": "stdout",
          "output_type": "stream",
          "text": [
            "[[ 0  1  2  3]\n",
            " [ 4  5  6  7]\n",
            " [ 8  9 10 11]]\n"
          ]
        }
      ],
      "source": [
        "#creates an array to the range of less than 12, reshaped by rows of 3 and collumns of 4\n",
        "print(np.arange(12).reshape(3,4))"
      ]
    },
    {
      "cell_type": "code",
      "execution_count": 12,
      "metadata": {
        "colab": {
          "base_uri": "https://localhost:8080/"
        },
        "id": "FqZI6k42doLH",
        "outputId": "405a918e-1661-40d5-ad46-92f0126fbc0e"
      },
      "outputs": [
        {
          "name": "stdout",
          "output_type": "stream",
          "text": [
            "[20 30 40 50]\n"
          ]
        }
      ],
      "source": [
        "#a is the array of the list of values\n",
        "a = np.array([20, 30, 40, 50])\n",
        "print(a)"
      ]
    },
    {
      "cell_type": "code",
      "execution_count": 13,
      "metadata": {
        "colab": {
          "base_uri": "https://localhost:8080/"
        },
        "id": "wKz6yCbeeWiW",
        "outputId": "74131ec6-3a56-463c-b229-0fde6d26fb4b"
      },
      "outputs": [
        {
          "name": "stdout",
          "output_type": "stream",
          "text": [
            "[0 1 2 3]\n"
          ]
        }
      ],
      "source": [
        "#b is the array of values to the range of less than 4\n",
        "b = np.arange(4)\n",
        "print(b)"
      ]
    },
    {
      "cell_type": "code",
      "execution_count": 15,
      "metadata": {
        "colab": {
          "base_uri": "https://localhost:8080/"
        },
        "id": "XxNBKOE5eaOO",
        "outputId": "d4ce6dc7-06b9-454a-dfd1-7b56ccf5d7a6"
      },
      "outputs": [
        {
          "name": "stdout",
          "output_type": "stream",
          "text": [
            "[20 29 38 47]\n"
          ]
        },
        {
          "data": {
            "text/plain": [
              "array([20, 29, 38, 47])"
            ]
          },
          "execution_count": 15,
          "metadata": {},
          "output_type": "execute_result"
        }
      ],
      "source": [
        "#return a difference of the arrays\n",
        "#my initial answer is the code returns the array [20 29 38 47]\n",
        "#i was correct, except there was a difference in the output since the code was not within a print function\n",
        "a-b"
      ]
    },
    {
      "cell_type": "code",
      "execution_count": 16,
      "metadata": {
        "colab": {
          "base_uri": "https://localhost:8080/"
        },
        "id": "1_zOSM0Uede7",
        "outputId": "1ecfd115-bd2d-4e18-f014-03650e55d703"
      },
      "outputs": [
        {
          "data": {
            "text/plain": [
              "array([20, 31, 42, 53])"
            ]
          },
          "execution_count": 16,
          "metadata": {},
          "output_type": "execute_result"
        }
      ],
      "source": [
        "#return an addition of the arrays\n",
        "a+b"
      ]
    },
    {
      "cell_type": "code",
      "execution_count": 17,
      "metadata": {
        "colab": {
          "base_uri": "https://localhost:8080/"
        },
        "id": "yPLyObqneeKK",
        "outputId": "ea9c6815-375a-4ab0-b3c8-771464497f28"
      },
      "outputs": [
        {
          "data": {
            "text/plain": [
              "array([0, 1, 4, 9])"
            ]
          },
          "execution_count": 17,
          "metadata": {},
          "output_type": "execute_result"
        }
      ],
      "source": [
        "#returns the values within the array b each raised to the power of 2\n",
        "b**2"
      ]
    },
    {
      "cell_type": "code",
      "execution_count": 18,
      "metadata": {
        "colab": {
          "base_uri": "https://localhost:8080/"
        },
        "id": "uEtuZRHVekz7",
        "outputId": "a8abb2fb-d0dd-4f96-857a-ba1e58885b72"
      },
      "outputs": [
        {
          "data": {
            "text/plain": [
              "260"
            ]
          },
          "execution_count": 18,
          "metadata": {},
          "output_type": "execute_result"
        }
      ],
      "source": [
        "#dot product is a type of multiplication across the arrays. each index will multiply the coresponding index in the other array, and it will all be added\n",
        "#(20*0)+(30*1)+(40*2)+(50*3)=260\n",
        "a.dot(b)"
      ]
    },
    {
      "cell_type": "code",
      "execution_count": 19,
      "metadata": {
        "colab": {
          "base_uri": "https://localhost:8080/"
        },
        "id": "nJwu4YdXepiM",
        "outputId": "976be7ff-0973-4278-f6bf-3eff6492c3b0"
      },
      "outputs": [
        {
          "name": "stdout",
          "output_type": "stream",
          "text": [
            "[[1 1]\n",
            " [0 1]]\n"
          ]
        }
      ],
      "source": [
        "A = np.array([[1, 1],\n",
        "              [0, 1]])\n",
        "print(A)"
      ]
    },
    {
      "cell_type": "code",
      "execution_count": 20,
      "metadata": {
        "colab": {
          "base_uri": "https://localhost:8080/"
        },
        "id": "0bIkGQXteyso",
        "outputId": "838c183a-1d48-4047-eb75-a9f19dcad4b6"
      },
      "outputs": [
        {
          "name": "stdout",
          "output_type": "stream",
          "text": [
            "[[2 0]\n",
            " [3 4]]\n"
          ]
        }
      ],
      "source": [
        "B = np.array([[2, 0],\n",
        "              [3, 4]])\n",
        "print(B)"
      ]
    },
    {
      "cell_type": "code",
      "execution_count": 21,
      "metadata": {
        "colab": {
          "base_uri": "https://localhost:8080/"
        },
        "id": "ko0DWJmFe0TH",
        "outputId": "5e579883-9310-4434-e249-c89464c4c86c"
      },
      "outputs": [
        {
          "data": {
            "text/plain": [
              "array([[2, 0],\n",
              "       [0, 4]])"
            ]
          },
          "execution_count": 21,
          "metadata": {},
          "output_type": "execute_result"
        }
      ],
      "source": [
        "#the product of the two arrays, element wise\n",
        "A*B"
      ]
    },
    {
      "cell_type": "code",
      "execution_count": 24,
      "metadata": {
        "colab": {
          "base_uri": "https://localhost:8080/"
        },
        "id": "7MC2mTgOe7B9",
        "outputId": "e39e216d-77b6-4930-e72d-7a2cd9ffe902"
      },
      "outputs": [
        {
          "data": {
            "text/plain": [
              "array([[5, 4],\n",
              "       [3, 4]])"
            ]
          },
          "execution_count": 24,
          "metadata": {},
          "output_type": "execute_result"
        }
      ],
      "source": [
        "#matrix multiplication\n",
        "#(0,0) index is the dot product of the first row of A and the first column of B\n",
        "#(0,1) index is the dot product of the first row of A and the second column of B\n",
        "#(1,0) index is the dot product of the second row of A and the first column of B\n",
        "#(1,1) index is the dot product of the second row of A and the second column of B\n",
        "A@B"
      ]
    },
    {
      "cell_type": "code",
      "execution_count": 25,
      "metadata": {
        "colab": {
          "base_uri": "https://localhost:8080/"
        },
        "id": "AuT4aoUce_KW",
        "outputId": "33094941-eaf4-4cc4-e458-f2d3ce712f0b"
      },
      "outputs": [
        {
          "data": {
            "text/plain": [
              "array([[5, 4],\n",
              "       [3, 4]])"
            ]
          },
          "execution_count": 25,
          "metadata": {},
          "output_type": "execute_result"
        }
      ],
      "source": [
        "#this is another way to the matrix multiplication\n",
        "A.dot(B)"
      ]
    },
    {
      "cell_type": "code",
      "execution_count": 26,
      "metadata": {
        "colab": {
          "base_uri": "https://localhost:8080/"
        },
        "id": "BY2GnK_IfLfq",
        "outputId": "030f457d-60ec-4fbc-8fa2-71d63e77d392"
      },
      "outputs": [
        {
          "name": "stdout",
          "output_type": "stream",
          "text": [
            "[  0   1   8  27  64 125 216 343 512 729]\n"
          ]
        }
      ],
      "source": [
        "#a is the array of a range less than 10, where the values are being raised to the power of 3\n",
        "a = np.arange(10)**3\n",
        "print(a)"
      ]
    },
    {
      "cell_type": "code",
      "execution_count": 27,
      "metadata": {
        "colab": {
          "base_uri": "https://localhost:8080/"
        },
        "id": "dGEZhjsAfW9Q",
        "outputId": "200278f9-bc35-44d9-8ab5-d5866b3af271"
      },
      "outputs": [
        {
          "data": {
            "text/plain": [
              "array([ 8, 27, 64], dtype=int32)"
            ]
          },
          "execution_count": 27,
          "metadata": {},
          "output_type": "execute_result"
        }
      ],
      "source": [
        "#return indexes 2 through 4\n",
        "a[2:5]"
      ]
    },
    {
      "cell_type": "code",
      "execution_count": 28,
      "metadata": {
        "colab": {
          "base_uri": "https://localhost:8080/"
        },
        "id": "Xk34DzO1fawO",
        "outputId": "a6218ac7-d2b3-4125-d233-6327909782ce"
      },
      "outputs": [
        {
          "data": {
            "text/plain": [
              "array([  0,   8,  64, 216], dtype=int32)"
            ]
          },
          "execution_count": 28,
          "metadata": {},
          "output_type": "execute_result"
        }
      ],
      "source": [
        "#return indexes up to 8 incrementing by 2 \n",
        "a[:8:2]"
      ]
    },
    {
      "cell_type": "code",
      "execution_count": 29,
      "metadata": {
        "colab": {
          "base_uri": "https://localhost:8080/"
        },
        "id": "jXwb1k30fetG",
        "outputId": "a47a5d73-530f-43eb-fba0-99fe1b0a075b"
      },
      "outputs": [
        {
          "data": {
            "text/plain": [
              "729"
            ]
          },
          "execution_count": 29,
          "metadata": {},
          "output_type": "execute_result"
        }
      ],
      "source": [
        "#return last index\n",
        "a[-1]"
      ]
    },
    {
      "cell_type": "code",
      "execution_count": 30,
      "metadata": {
        "colab": {
          "base_uri": "https://localhost:8080/"
        },
        "id": "p1WwHjodfhPC",
        "outputId": "3a5d8253-de48-499e-fced-995b7fcb820b"
      },
      "outputs": [
        {
          "data": {
            "text/plain": [
              "array([729, 512, 343, 216, 125,  64,  27,   8,   1,   0], dtype=int32)"
            ]
          },
          "execution_count": 30,
          "metadata": {},
          "output_type": "execute_result"
        }
      ],
      "source": [
        "#return array in reverse order\n",
        "a[::-1]"
      ]
    },
    {
      "cell_type": "code",
      "execution_count": 32,
      "metadata": {
        "colab": {
          "base_uri": "https://localhost:8080/"
        },
        "id": "X7OhMh-6fj8y",
        "outputId": "6aba8f53-a2bc-4b74-fa56-0f4058db58c4"
      },
      "outputs": [
        {
          "name": "stdout",
          "output_type": "stream",
          "text": [
            "[[[  0   1   2]\n",
            "  [ 10  12  13]]\n",
            "\n",
            " [[100 101 102]\n",
            "  [110 112 113]]]\n"
          ]
        }
      ],
      "source": [
        "C = np.array([[[  0,  1,  2],\n",
        "               [ 10, 12, 13]],\n",
        "              [[100, 101, 102],\n",
        "               [110, 112, 113]]])\n",
        "print(C)"
      ]
    },
    {
      "cell_type": "code",
      "execution_count": 33,
      "metadata": {
        "colab": {
          "base_uri": "https://localhost:8080/"
        },
        "id": "ooZpl20cfyIj",
        "outputId": "d06fbe33-db4c-43da-cf37-3795ca625e78"
      },
      "outputs": [
        {
          "name": "stdout",
          "output_type": "stream",
          "text": [
            "(2, 2, 3)\n"
          ]
        }
      ],
      "source": [
        "#return the shape of C, (2 subarrays, 2 rows each, 3 columns), 3d array, a collection of 2d arrays\n",
        "print(C.shape)"
      ]
    },
    {
      "cell_type": "code",
      "execution_count": 49,
      "metadata": {
        "colab": {
          "base_uri": "https://localhost:8080/"
        },
        "id": "PYju_eYhgHrq",
        "outputId": "61386989-9728-4317-a7bc-ba85ff901a7f"
      },
      "outputs": [
        {
          "name": "stdout",
          "output_type": "stream",
          "text": [
            "[[ 0  1  2  3]\n",
            " [ 4  5  6  7]\n",
            " [ 8  9 10 11]]\n"
          ]
        }
      ],
      "source": [
        "a = np.array([[ 0,  1,  2,  3],\n",
        "              [ 4,  5,  6,  7],\n",
        "              [ 8,  9, 10, 11]])\n",
        "print(a)"
      ]
    },
    {
      "cell_type": "code",
      "execution_count": 50,
      "metadata": {
        "colab": {
          "base_uri": "https://localhost:8080/"
        },
        "id": "8YV8R38HgmCD",
        "outputId": "93e7622d-6f8d-42ab-bdbd-a16bcef1ca59"
      },
      "outputs": [
        {
          "name": "stdout",
          "output_type": "stream",
          "text": [
            "[[ 0  1  2  3]\n",
            " [ 4  5  6  7]\n",
            " [ 8  9 10 11]]\n"
          ]
        }
      ],
      "source": [
        "b = a\n",
        "print(b)"
      ]
    },
    {
      "cell_type": "code",
      "execution_count": 51,
      "metadata": {
        "colab": {
          "base_uri": "https://localhost:8080/"
        },
        "id": "1mwq8-lFgqTQ",
        "outputId": "d0909734-54b1-4aa9-bfca-d1d745a5144b"
      },
      "outputs": [
        {
          "name": "stdout",
          "output_type": "stream",
          "text": [
            "[[ 0  1  2  3]\n",
            " [ 0  0  6  7]\n",
            " [ 8  9 10 11]]\n"
          ]
        }
      ],
      "source": [
        "#in row [1] convert the first 2 elements into 0, changes it for all previous instances of array of b\n",
        "#b[1][:2]=0 also works\n",
        "b[1,:2] = 0\n",
        "print(b)"
      ]
    },
    {
      "cell_type": "code",
      "execution_count": 52,
      "metadata": {
        "colab": {
          "base_uri": "https://localhost:8080/"
        },
        "id": "D-Er126tg6J6",
        "outputId": "995ac79a-2143-464d-843a-026cc22f1038"
      },
      "outputs": [
        {
          "data": {
            "text/plain": [
              "array([[ 0,  2,  4,  6],\n",
              "       [ 0,  0, 12, 14],\n",
              "       [16, 18, 20, 22]])"
            ]
          },
          "execution_count": 52,
          "metadata": {},
          "output_type": "execute_result"
        }
      ],
      "source": [
        "#because we used b=a, instead of copying a, we also turned a's elements into zeros, because it's a reference\n",
        "a+b"
      ]
    },
    {
      "cell_type": "code",
      "execution_count": 54,
      "metadata": {},
      "outputs": [
        {
          "data": {
            "text/plain": [
              "array([[ 0,  1,  2,  3],\n",
              "       [ 0,  0,  6,  7],\n",
              "       [ 8,  9, 10, 11]])"
            ]
          },
          "execution_count": 54,
          "metadata": {},
          "output_type": "execute_result"
        }
      ],
      "source": [
        "a"
      ]
    },
    {
      "cell_type": "code",
      "execution_count": 57,
      "metadata": {
        "colab": {
          "base_uri": "https://localhost:8080/"
        },
        "id": "9jyUB63MhoMw",
        "outputId": "9c2a3a91-2019-42d4-a2dd-8d31dfec0081"
      },
      "outputs": [
        {
          "name": "stdout",
          "output_type": "stream",
          "text": [
            "[[ 0  1  2  3]\n",
            " [ 4  5  6  7]\n",
            " [ 8  9 10 11]]\n"
          ]
        }
      ],
      "source": [
        "a = np.array([[ 0,  1,  2,  3],\n",
        "              [ 4,  5,  6,  7],\n",
        "              [ 8,  9, 10, 11]])\n",
        "print(a)"
      ]
    },
    {
      "cell_type": "code",
      "execution_count": 58,
      "metadata": {
        "colab": {
          "base_uri": "https://localhost:8080/"
        },
        "id": "8TtAA_jRh1UI",
        "outputId": "c2cd1fd5-80c4-411e-ef53-fefbdf4fbadb"
      },
      "outputs": [
        {
          "name": "stdout",
          "output_type": "stream",
          "text": [
            "[[ 0  1  2  3]\n",
            " [ 4  5  6  7]\n",
            " [ 8  9 10 11]]\n"
          ]
        }
      ],
      "source": [
        "#make a separate copy, that can be changed without affecting the original variable, a completely new object\n",
        "c = a.copy()\n",
        "print(c)"
      ]
    },
    {
      "cell_type": "code",
      "execution_count": 59,
      "metadata": {
        "colab": {
          "base_uri": "https://localhost:8080/"
        },
        "id": "U79S_c3zh5-H",
        "outputId": "8a2a43e5-0d64-436e-e35d-a9bbabaa1d45"
      },
      "outputs": [
        {
          "name": "stdout",
          "output_type": "stream",
          "text": [
            "[[ 0  1  2  3]\n",
            " [ 0  0  6  7]\n",
            " [ 8  9 10 11]]\n"
          ]
        }
      ],
      "source": [
        "c[1,:2] = 0\n",
        "print(c)"
      ]
    },
    {
      "cell_type": "code",
      "execution_count": 60,
      "metadata": {
        "colab": {
          "base_uri": "https://localhost:8080/"
        },
        "id": "4xpSgqcxh-zG",
        "outputId": "a85d1dfd-f9a6-40f9-a280-cde1f93b995d"
      },
      "outputs": [
        {
          "data": {
            "text/plain": [
              "array([[ 0,  2,  4,  6],\n",
              "       [ 4,  5, 12, 14],\n",
              "       [16, 18, 20, 22]])"
            ]
          },
          "execution_count": 60,
          "metadata": {},
          "output_type": "execute_result"
        }
      ],
      "source": [
        "#a was not affected\n",
        "a+c"
      ]
    },
    {
      "cell_type": "markdown",
      "metadata": {
        "id": "LcB5_E0bVXUf"
      },
      "source": [
        "# Pandas dataframe\n",
        "\n",
        "* https://pandas.pydata.org/docs/user_guide/10min.html\n",
        "* https://pandas.pydata.org/pandas-docs/dev/getting_started/tutorials.html\n",
        "* https://www.learndatasci.com/tutorials/python-pandas-tutorial-complete-introduction-for-beginners/"
      ]
    },
    {
      "cell_type": "code",
      "execution_count": 3,
      "metadata": {
        "id": "odb8SKLpahPj"
      },
      "outputs": [],
      "source": [
        "import pandas as pd"
      ]
    },
    {
      "cell_type": "code",
      "execution_count": 4,
      "metadata": {
        "colab": {
          "base_uri": "https://localhost:8080/"
        },
        "id": "fgkQBLs4h_y9",
        "outputId": "ab6c3c9e-a175-480d-b920-528dad7252ff"
      },
      "outputs": [
        {
          "name": "stdout",
          "output_type": "stream",
          "text": [
            "[1083, 1714, 2124, 3424, 3343, 3793]\n"
          ]
        }
      ],
      "source": [
        "a = [1083, 1714, 2124, 3424, 3343, 3793]\n",
        "print(a)"
      ]
    },
    {
      "cell_type": "code",
      "execution_count": 5,
      "metadata": {
        "colab": {
          "base_uri": "https://localhost:8080/"
        },
        "id": "J1yxvxkjaumm",
        "outputId": "9155343d-b2e9-4f0b-f99d-ca7558656907"
      },
      "outputs": [
        {
          "name": "stdout",
          "output_type": "stream",
          "text": [
            "0    1083\n",
            "1    1714\n",
            "2    2124\n",
            "3    3424\n",
            "4    3343\n",
            "5    3793\n",
            "dtype: int64\n"
          ]
        }
      ],
      "source": [
        "s = pd.Series(a)\n",
        "print(s)"
      ]
    },
    {
      "cell_type": "code",
      "execution_count": 4,
      "metadata": {
        "colab": {
          "base_uri": "https://localhost:8080/"
        },
        "id": "EDUc6qXpi25v",
        "outputId": "d9f20944-7daf-4ef5-c208-acfa3f77c090"
      },
      "outputs": [
        {
          "name": "stdout",
          "output_type": "stream",
          "text": [
            "     Status Subject  Course Section    CRN                           Title  \\\n",
            "0      OPEN      CS    1063       1  20464     Intro to Comp Programming I   \n",
            "1      OPEN      CS    1083       1  31537  Prog I for Computer Scientists   \n",
            "2      OPEN      CS    1083       2  31538  Prog I for Computer Scientists   \n",
            "3    CLOSED      CS    1083       3  31810  Prog I for Computer Scientists   \n",
            "4      OPEN      CS    1083       4  35683  Prog I for Computer Scientists   \n",
            "..      ...     ...     ...     ...    ...                             ...   \n",
            "349    OPEN      CS    7316      22  37320           Doctoral Dissertation   \n",
            "350    OPEN      CS    7316      23  37321           Doctoral Dissertation   \n",
            "351    OPEN      CS    7316      24  37322           Doctoral Dissertation   \n",
            "352    OPEN      CS    7316      25  37323           Doctoral Dissertation   \n",
            "353    OPEN      CS    7316      26  37324           Doctoral Dissertation   \n",
            "\n",
            "    Cred Meeting Days          Times              Meeting Type  ...  \\\n",
            "0      3           MW    4:00-5:15pm  Online only, at set time  ...   \n",
            "1      3           TR    4:00-5:15pm     Traditional in-person  ...   \n",
            "2      3           TR  10:00-11:15am     Traditional in-person  ...   \n",
            "3      3          MWF  10:00-10:50am  Online only, at set time  ...   \n",
            "4      3           TR    1:00-2:15pm     Traditional in-person  ...   \n",
            "..   ...          ...            ...                       ...  ...   \n",
            "349    6          TBA            TBA            To be arranged  ...   \n",
            "350    6          TBA            TBA            To be arranged  ...   \n",
            "351    6          TBA            TBA            To be arranged  ...   \n",
            "352    6          TBA            TBA            To be arranged  ...   \n",
            "353    6          TBA            TBA            To be arranged  ...   \n",
            "\n",
            "      Location                         Instructor         Date Weeks  Seats  \\\n",
            "0                            Rutherford, Linda B.  01/18-05/11    17     75   \n",
            "1    NPB 1.202  Gomez Morales, Mauricio Alejandro  01/18-05/11    17     60   \n",
            "2    NPB 1.202  Gomez Morales, Mauricio Alejandro  01/18-05/11    17     60   \n",
            "3                                  Rathore, Heena  01/18-05/11    17     65   \n",
            "4    NPB 1.238                     Long, Byron L.  01/18-05/11    17     60   \n",
            "..         ...                                ...          ...   ...    ...   \n",
            "349                                         Staff  01/18-05/11    17     10   \n",
            "350                                         Staff  01/18-05/11    17     10   \n",
            "351                                         Staff  01/18-05/11    17     10   \n",
            "352                                         Staff  01/18-05/11    17     10   \n",
            "353                                         Staff  01/18-05/11    17     10   \n",
            "\n",
            "     Enrolled  Available  Wait List                          Final Exam   Fees  \n",
            "0          70          5        NaN  Tue  May 10  07:00 am - 08:50 am    $111   \n",
            "1          32         28        NaN  Tue  May 10  03:00 pm - 04:50 pm    $111   \n",
            "2          53          7        NaN  Tue  May 10  11:00 am - 12:50 pm    $111   \n",
            "3          65          0        NaN  Mon  May 09  11:00 am - 12:50 pm    $111   \n",
            "4          40         20        NaN  Tue  May 10  01:00 pm - 02:50 pm    $111   \n",
            "..        ...        ...        ...                                 ...    ...  \n",
            "349         0         10        NaN     To be determined by instructor   $570   \n",
            "350         0         10        NaN     To be determined by instructor   $570   \n",
            "351         0         10        NaN     To be determined by instructor   $570   \n",
            "352         0         10        NaN     To be determined by instructor   $570   \n",
            "353         0         10        NaN     To be determined by instructor   $570   \n",
            "\n",
            "[354 rows x 21 columns]\n"
          ]
        }
      ],
      "source": [
        "#prefix the string with r (to produce a raw string), so that \\r does not produce a Unicode error\n",
        "\n",
        "df = pd.read_csv(r'C:\\Users\\rmani\\OneDrive\\Desktop\\Artificial Intelligence\\codes\\courselist-spring22.csv')\n",
        "print(df)"
      ]
    },
    {
      "cell_type": "code",
      "execution_count": 7,
      "metadata": {
        "colab": {
          "base_uri": "https://localhost:8080/"
        },
        "id": "VNF23icRkkpE",
        "outputId": "2e18eee4-a2ff-4041-8faf-c2ba0921db4b"
      },
      "outputs": [
        {
          "name": "stdout",
          "output_type": "stream",
          "text": [
            "   Status Subject  Course Section    CRN                           Title Cred  \\\n",
            "0    OPEN      CS    1063       1  20464     Intro to Comp Programming I    3   \n",
            "1    OPEN      CS    1083       1  31537  Prog I for Computer Scientists    3   \n",
            "2    OPEN      CS    1083       2  31538  Prog I for Computer Scientists    3   \n",
            "3  CLOSED      CS    1083       3  31810  Prog I for Computer Scientists    3   \n",
            "4    OPEN      CS    1083       4  35683  Prog I for Computer Scientists    3   \n",
            "\n",
            "  Meeting Days          Times              Meeting Type  ...   Location  \\\n",
            "0           MW    4:00-5:15pm  Online only, at set time  ...              \n",
            "1           TR    4:00-5:15pm     Traditional in-person  ...  NPB 1.202   \n",
            "2           TR  10:00-11:15am     Traditional in-person  ...  NPB 1.202   \n",
            "3          MWF  10:00-10:50am  Online only, at set time  ...              \n",
            "4           TR    1:00-2:15pm     Traditional in-person  ...  NPB 1.238   \n",
            "\n",
            "                          Instructor         Date Weeks  Seats  Enrolled  \\\n",
            "0               Rutherford, Linda B.  01/18-05/11    17     75        70   \n",
            "1  Gomez Morales, Mauricio Alejandro  01/18-05/11    17     60        32   \n",
            "2  Gomez Morales, Mauricio Alejandro  01/18-05/11    17     60        53   \n",
            "3                     Rathore, Heena  01/18-05/11    17     65        65   \n",
            "4                     Long, Byron L.  01/18-05/11    17     60        40   \n",
            "\n",
            "   Available  Wait List                          Final Exam   Fees  \n",
            "0          5        NaN  Tue  May 10  07:00 am - 08:50 am    $111   \n",
            "1         28        NaN  Tue  May 10  03:00 pm - 04:50 pm    $111   \n",
            "2          7        NaN  Tue  May 10  11:00 am - 12:50 pm    $111   \n",
            "3          0        NaN  Mon  May 09  11:00 am - 12:50 pm    $111   \n",
            "4         20        NaN  Tue  May 10  01:00 pm - 02:50 pm    $111   \n",
            "\n",
            "[5 rows x 21 columns]\n"
          ]
        }
      ],
      "source": [
        "#prints only a snapshot, first 4-5 rows\n",
        "print(df.head())"
      ]
    },
    {
      "cell_type": "code",
      "execution_count": 8,
      "metadata": {
        "colab": {
          "base_uri": "https://localhost:8080/"
        },
        "id": "nKFjiSCDk60D",
        "outputId": "de5ede5f-b32d-474a-bf70-f5a7cb076cad"
      },
      "outputs": [
        {
          "name": "stdout",
          "output_type": "stream",
          "text": [
            "Index(['Status', 'Subject', 'Course', 'Section', 'CRN', 'Title', 'Cred',\n",
            "       'Meeting Days', 'Times', 'Meeting Type', 'Campus', 'Location',\n",
            "       'Instructor', 'Date', 'Weeks', 'Seats', 'Enrolled', 'Available',\n",
            "       'Wait List', 'Final Exam', 'Fees'],\n",
            "      dtype='object')\n"
          ]
        }
      ],
      "source": [
        "#prints all the columns\n",
        "print(df.columns)"
      ]
    },
    {
      "cell_type": "code",
      "execution_count": 9,
      "metadata": {
        "colab": {
          "base_uri": "https://localhost:8080/"
        },
        "id": "_PPS9yzHlK5W",
        "outputId": "b95fec8b-d30c-4cf5-8205-fc14cb597d0e"
      },
      "outputs": [
        {
          "name": "stdout",
          "output_type": "stream",
          "text": [
            "Index(['Status', 'Subject', 'Course', 'Section', 'CRN', 'Title', 'Cred',\n",
            "       'Instructor', 'Seats', 'Enrolled', 'Available', 'Fees'],\n",
            "      dtype='object')\n",
            "   Status Subject  Course Section    CRN                           Title Cred  \\\n",
            "0    OPEN      CS    1063       1  20464     Intro to Comp Programming I    3   \n",
            "1    OPEN      CS    1083       1  31537  Prog I for Computer Scientists    3   \n",
            "2    OPEN      CS    1083       2  31538  Prog I for Computer Scientists    3   \n",
            "3  CLOSED      CS    1083       3  31810  Prog I for Computer Scientists    3   \n",
            "4    OPEN      CS    1083       4  35683  Prog I for Computer Scientists    3   \n",
            "\n",
            "                          Instructor  Seats  Enrolled  Available   Fees  \n",
            "0               Rutherford, Linda B.     75        70          5  $111   \n",
            "1  Gomez Morales, Mauricio Alejandro     60        32         28  $111   \n",
            "2  Gomez Morales, Mauricio Alejandro     60        53          7  $111   \n",
            "3                     Rathore, Heena     65        65          0  $111   \n",
            "4                     Long, Byron L.     60        40         20  $111   \n"
          ]
        }
      ],
      "source": [
        "#columns we don't care about gathered within a list\n",
        "cols_to_drop = ['Meeting Days', 'Times', 'Meeting Type', 'Campus', 'Location', 'Date', 'Weeks', 'Final Exam', 'Wait List']\n",
        "#axis=1 is for columns\n",
        "#axiz=0 is for rows/index\n",
        "#drop column for column within list of columns we dont care about if such column exitsts withinn the original csv file\n",
        "df = df.drop([x for x in cols_to_drop if x in df.columns], axis=1)\n",
        "print(df.columns)\n",
        "print(df.head())"
      ]
    },
    {
      "cell_type": "code",
      "execution_count": 10,
      "metadata": {
        "colab": {
          "base_uri": "https://localhost:8080/"
        },
        "id": "26CTT4KFmMT7",
        "outputId": "d3ff0fa7-f876-431a-d612-4a2449bf7c8e"
      },
      "outputs": [
        {
          "name": "stdout",
          "output_type": "stream",
          "text": [
            "Status        object\n",
            "Subject       object\n",
            "Course         int64\n",
            "Section       object\n",
            "CRN            int64\n",
            "Title         object\n",
            "Cred          object\n",
            "Instructor    object\n",
            "Seats          int64\n",
            "Enrolled       int64\n",
            "Available      int64\n",
            "Fees          object\n",
            "dtype: object\n"
          ]
        }
      ],
      "source": [
        "#datatype for each column\n",
        "print(df.dtypes)"
      ]
    },
    {
      "cell_type": "code",
      "execution_count": 11,
      "metadata": {
        "colab": {
          "base_uri": "https://localhost:8080/"
        },
        "id": "qHYX9fV6mtMV",
        "outputId": "4d44b063-6fe1-489d-8019-7b458f6bc125"
      },
      "outputs": [
        {
          "name": "stdout",
          "output_type": "stream",
          "text": [
            "Status        object\n",
            "Subject       object\n",
            "Course         int64\n",
            "Section       object\n",
            "CRN           object\n",
            "Title         object\n",
            "Cred          object\n",
            "Instructor    object\n",
            "Seats          int64\n",
            "Enrolled       int64\n",
            "Available      int64\n",
            "Fees          object\n",
            "dtype: object\n"
          ]
        }
      ],
      "source": [
        "#Cast a pandas object to a specified data type\n",
        "df = df.astype({'CRN':str})\n",
        "print(df.dtypes)"
      ]
    },
    {
      "cell_type": "code",
      "execution_count": 12,
      "metadata": {
        "colab": {
          "base_uri": "https://localhost:8080/"
        },
        "id": "liLGM3x1nhw7",
        "outputId": "8fcd45f0-1e0c-4b82-f35c-83d108be8681"
      },
      "outputs": [
        {
          "name": "stdout",
          "output_type": "stream",
          "text": [
            "Status         object\n",
            "Subject        object\n",
            "Course          int64\n",
            "Section        object\n",
            "CRN            object\n",
            "Title          object\n",
            "Cred          float64\n",
            "Instructor     object\n",
            "Seats           int64\n",
            "Enrolled        int64\n",
            "Available       int64\n",
            "Fees           object\n",
            "dtype: object\n"
          ]
        }
      ],
      "source": [
        "#convert cred list to numeric, errors='coerce' means it's being forced, so that we do not get any errors\n",
        "df['Cred'] = pd.to_numeric(df['Cred'], errors='coerce')\n",
        "print(df.dtypes)\n",
        "#it has been turned into a float"
      ]
    },
    {
      "cell_type": "code",
      "execution_count": 13,
      "metadata": {
        "colab": {
          "base_uri": "https://localhost:8080/"
        },
        "id": "r1bfPOLQo7YT",
        "outputId": "29cf2b57-7671-48d0-8192-c24b2b25dcfc"
      },
      "outputs": [
        {
          "name": "stdout",
          "output_type": "stream",
          "text": [
            "    Status Subject  Course Section    CRN                    Title  Cred  \\\n",
            "13    OPEN      CS    1714     0A1  36483  Computer Programming II   4.0   \n",
            "14    OPEN      CS    1714     0AA  36484  Computer Programming II   NaN   \n",
            "15    OPEN      CS    1714     0AB  36485  Computer Programming II   NaN   \n",
            "16    OPEN      CS    1714     0B2  36622  Computer Programming II   4.0   \n",
            "17    OPEN      CS    1714     0BA  36623  Computer Programming II   NaN   \n",
            "18    OPEN      CS    1714     0BB  36626  Computer Programming II   NaN   \n",
            "19    OPEN      CS    1714     0C3  36634  Computer Programming II   4.0   \n",
            "20    OPEN      CS    1714     0CA  36635  Computer Programming II   NaN   \n",
            "21  CLOSED      CS    1714     0CB  36638  Computer Programming II   NaN   \n",
            "22    OPEN      CS    1714     0D4  36643  Computer Programming II   4.0   \n",
            "23    OPEN      CS    1714     0DA  36646  Computer Programming II   NaN   \n",
            "24    OPEN      CS    1714     0DB  36650  Computer Programming II   NaN   \n",
            "\n",
            "          Instructor  Seats  Enrolled  Available  Fees  \n",
            "13  Jointer, Stanley     66        51         15  148   \n",
            "14  Jointer, Stanley     33        32          1   NaN  \n",
            "15  Jointer, Stanley     33        19         14   NaN  \n",
            "16      Desai, Kevin     70        68          2  148   \n",
            "17      Desai, Kevin     35        34          1   NaN  \n",
            "18      Desai, Kevin     35        34          1   NaN  \n",
            "19      Desai, Kevin     70        69          1  148   \n",
            "20      Desai, Kevin     35        34          1   NaN  \n",
            "21      Desai, Kevin     35        35          0   NaN  \n",
            "22  Jointer, Stanley     60        54          6  148   \n",
            "23  Jointer, Stanley     30        27          3   NaN  \n",
            "24  Jointer, Stanley     30        27          3   NaN  \n"
          ]
        },
        {
          "name": "stderr",
          "output_type": "stream",
          "text": [
            "C:\\Users\\rmani\\AppData\\Local\\Temp\\ipykernel_12452\\2411033100.py:3: FutureWarning: The default value of regex will change from True to False in a future version. In addition, single character regular expressions will *not* be treated as literal strings when regex=True.\n",
            "  df['Fees'] = df['Fees'].str.replace('$','')\n"
          ]
        }
      ],
      "source": [
        "#remove $ from fees\n",
        "#get the string for the object then replace $ with nothing\n",
        "df['Fees'] = df['Fees'].str.replace('$','')\n",
        "print(df[df['Course']==1714])"
      ]
    },
    {
      "cell_type": "code",
      "execution_count": 14,
      "metadata": {
        "colab": {
          "base_uri": "https://localhost:8080/"
        },
        "id": "X3m6BWSKodXx",
        "outputId": "55b11a51-7e01-4c95-fd2f-fc86b2fa01af"
      },
      "outputs": [
        {
          "data": {
            "text/plain": [
              "0      False\n",
              "1      False\n",
              "2      False\n",
              "3      False\n",
              "4      False\n",
              "       ...  \n",
              "349    False\n",
              "350    False\n",
              "351    False\n",
              "352    False\n",
              "353    False\n",
              "Name: Course, Length: 354, dtype: bool"
            ]
          },
          "execution_count": 14,
          "metadata": {},
          "output_type": "execute_result"
        }
      ],
      "source": [
        "#wrong way to find CS1714\n",
        "#returns a boolean for rows that match/do not match\n",
        "df['Course'] == 1714"
      ]
    },
    {
      "cell_type": "code",
      "execution_count": 15,
      "metadata": {
        "colab": {
          "base_uri": "https://localhost:8080/"
        },
        "id": "35legVG9oBVr",
        "outputId": "7b1edfd5-21b7-48ae-9503-ce926b69759e"
      },
      "outputs": [
        {
          "name": "stdout",
          "output_type": "stream",
          "text": [
            "    Status Subject  Course Section    CRN                    Title  Cred  \\\n",
            "13    OPEN      CS    1714     0A1  36483  Computer Programming II   4.0   \n",
            "14    OPEN      CS    1714     0AA  36484  Computer Programming II   NaN   \n",
            "15    OPEN      CS    1714     0AB  36485  Computer Programming II   NaN   \n",
            "16    OPEN      CS    1714     0B2  36622  Computer Programming II   4.0   \n",
            "17    OPEN      CS    1714     0BA  36623  Computer Programming II   NaN   \n",
            "18    OPEN      CS    1714     0BB  36626  Computer Programming II   NaN   \n",
            "19    OPEN      CS    1714     0C3  36634  Computer Programming II   4.0   \n",
            "20    OPEN      CS    1714     0CA  36635  Computer Programming II   NaN   \n",
            "21  CLOSED      CS    1714     0CB  36638  Computer Programming II   NaN   \n",
            "22    OPEN      CS    1714     0D4  36643  Computer Programming II   4.0   \n",
            "23    OPEN      CS    1714     0DA  36646  Computer Programming II   NaN   \n",
            "24    OPEN      CS    1714     0DB  36650  Computer Programming II   NaN   \n",
            "\n",
            "          Instructor  Seats  Enrolled  Available  Fees  \n",
            "13  Jointer, Stanley     66        51         15  148   \n",
            "14  Jointer, Stanley     33        32          1   NaN  \n",
            "15  Jointer, Stanley     33        19         14   NaN  \n",
            "16      Desai, Kevin     70        68          2  148   \n",
            "17      Desai, Kevin     35        34          1   NaN  \n",
            "18      Desai, Kevin     35        34          1   NaN  \n",
            "19      Desai, Kevin     70        69          1  148   \n",
            "20      Desai, Kevin     35        34          1   NaN  \n",
            "21      Desai, Kevin     35        35          0   NaN  \n",
            "22  Jointer, Stanley     60        54          6  148   \n",
            "23  Jointer, Stanley     30        27          3   NaN  \n",
            "24  Jointer, Stanley     30        27          3   NaN  \n"
          ]
        }
      ],
      "source": [
        "#print df, when course in df file == CS1714\n",
        "print(df[df['Course']==1714])"
      ]
    },
    {
      "cell_type": "code",
      "execution_count": 16,
      "metadata": {
        "colab": {
          "base_uri": "https://localhost:8080/"
        },
        "id": "TMmF5_RdotgT",
        "outputId": "3c86488c-5752-4f97-c172-a913709ec713"
      },
      "outputs": [
        {
          "name": "stdout",
          "output_type": "stream",
          "text": [
            "    Status Subject  Course Section    CRN                    Title  Cred  \\\n",
            "13    OPEN      CS    1714     0A1  36483  Computer Programming II   4.0   \n",
            "14    OPEN      CS    1714     0AA  36484  Computer Programming II   0.0   \n",
            "15    OPEN      CS    1714     0AB  36485  Computer Programming II   0.0   \n",
            "16    OPEN      CS    1714     0B2  36622  Computer Programming II   4.0   \n",
            "17    OPEN      CS    1714     0BA  36623  Computer Programming II   0.0   \n",
            "18    OPEN      CS    1714     0BB  36626  Computer Programming II   0.0   \n",
            "19    OPEN      CS    1714     0C3  36634  Computer Programming II   4.0   \n",
            "20    OPEN      CS    1714     0CA  36635  Computer Programming II   0.0   \n",
            "21  CLOSED      CS    1714     0CB  36638  Computer Programming II   0.0   \n",
            "22    OPEN      CS    1714     0D4  36643  Computer Programming II   4.0   \n",
            "23    OPEN      CS    1714     0DA  36646  Computer Programming II   0.0   \n",
            "24    OPEN      CS    1714     0DB  36650  Computer Programming II   0.0   \n",
            "\n",
            "          Instructor  Seats  Enrolled  Available  Fees  \n",
            "13  Jointer, Stanley     66        51         15  148   \n",
            "14  Jointer, Stanley     33        32          1     0  \n",
            "15  Jointer, Stanley     33        19         14     0  \n",
            "16      Desai, Kevin     70        68          2  148   \n",
            "17      Desai, Kevin     35        34          1     0  \n",
            "18      Desai, Kevin     35        34          1     0  \n",
            "19      Desai, Kevin     70        69          1  148   \n",
            "20      Desai, Kevin     35        34          1     0  \n",
            "21      Desai, Kevin     35        35          0     0  \n",
            "22  Jointer, Stanley     60        54          6  148   \n",
            "23  Jointer, Stanley     30        27          3     0  \n",
            "24  Jointer, Stanley     30        27          3     0  \n"
          ]
        }
      ],
      "source": [
        "#replace NaN values with 0, NaN means not a number\n",
        "df = df.fillna(0)\n",
        "print(df[df['Course']==1714])"
      ]
    },
    {
      "cell_type": "code",
      "execution_count": 17,
      "metadata": {
        "colab": {
          "base_uri": "https://localhost:8080/"
        },
        "id": "50s9bkBpm-ZZ",
        "outputId": "27f6dd13-486c-4668-d9f1-66fba591f069"
      },
      "outputs": [
        {
          "name": "stdout",
          "output_type": "stream",
          "text": [
            "['Rutherford, Linda B.' 'Gomez Morales, Mauricio Alejandro'\n",
            " 'Rathore, Heena' 'Long, Byron L.' 'Roberson, Dawnlee J.' 'Staff'\n",
            " 'Jointer, Stanley' 'Desai, Kevin' 'Banerjee, Jishnu'\n",
            " 'Sherette, Jonathan L.' 'Heaps, John S.' 'Pritom, Mir Mehedi A.'\n",
            " 'Yang, Zhongxiu' 'Arafat, Imtiaz Muhammad' 'Anderson, Benjamin R.'\n",
            " 'Lu, Qi' 'Dutta, Anandi K.' 'Gibson, Matthew R.' 'Silvestro, Sam A.'\n",
            " \"O'Hara, Steven A.\" 'Korkmaz, Turgay  .' 'Ruan, Jianhua'\n",
            " 'Valadez, Juan M.' 'Wang, Wei' 'Ortiz, John A.' 'Murphy, Richard L.'\n",
            " 'Arora, Ritu' 'Fernandez, Amanda S.' 'Harrison, Keith B.' 'Sandhu, Ravi'\n",
            " 'Quarles, John P.' 'Zhu, Dakai' 'Ku, Bernard S.' 'Rutherford, James R.'\n",
            " 'Slavin, Rocky L.' 'Najafirad, Peyman' 'Wang, Xiaoyin'\n",
            " 'White, Gregory B.' 'Xie, Mimi' 'Lama, Palden' 'Jha, Sumit K.'\n",
            " 'Boppana, Rajendra V.' 'Niu, Jianwei' 'Jadliwala, Murtuza'\n",
            " 'Prasad, Sushil']\n"
          ]
        }
      ],
      "source": [
        "print(df['Instructor'].unique())"
      ]
    },
    {
      "cell_type": "code",
      "execution_count": null,
      "metadata": {
        "id": "VsZG_xBOnWKq"
      },
      "outputs": [],
      "source": []
    },
    {
      "cell_type": "markdown",
      "metadata": {
        "id": "tJ1RDb5cVZ5u"
      },
      "source": [
        "# Matplotlib\n",
        "\n",
        "* https://matplotlib.org/stable/tutorials/index.html\n",
        "* https://www.datacamp.com/tutorial/matplotlib-tutorial-python\n",
        "* https://realpython.com/python-matplotlib-guide/\n",
        "* https://www.geeksforgeeks.org/matplotlib-tutorial/"
      ]
    },
    {
      "cell_type": "code",
      "execution_count": 5,
      "metadata": {
        "id": "zSi0cX49amNw"
      },
      "outputs": [],
      "source": [
        "import matplotlib.pyplot as plt"
      ]
    },
    {
      "cell_type": "code",
      "execution_count": 6,
      "metadata": {
        "id": "qISlgXV6avMP"
      },
      "outputs": [],
      "source": [
        "df_plot=df.copy()"
      ]
    },
    {
      "cell_type": "code",
      "execution_count": null,
      "metadata": {},
      "outputs": [],
      "source": []
    }
  ],
  "metadata": {
    "colab": {
      "collapsed_sections": [],
      "name": "python_lecture.ipynb",
      "provenance": [],
      "toc_visible": true
    },
    "interpreter": {
      "hash": "51e4f816afd506db7bb7650607a3e2e026e40398beddcc9e11824953f6978b8d"
    },
    "kernelspec": {
      "display_name": "Python 3.10.4 64-bit",
      "language": "python",
      "name": "python3"
    },
    "language_info": {
      "codemirror_mode": {
        "name": "ipython",
        "version": 3
      },
      "file_extension": ".py",
      "mimetype": "text/x-python",
      "name": "python",
      "nbconvert_exporter": "python",
      "pygments_lexer": "ipython3",
      "version": "3.10.4"
    }
  },
  "nbformat": 4,
  "nbformat_minor": 0
}
